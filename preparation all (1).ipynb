{
 "cells": [
  {
   "cell_type": "code",
   "execution_count": 1,
   "id": "3e0d6839-daea-4845-8ace-48bbb3a01435",
   "metadata": {},
   "outputs": [],
   "source": [
    "a=20"
   ]
  },
  {
   "cell_type": "code",
   "execution_count": 2,
   "id": "a5bf5211-15c6-41db-a29e-f81e2faa52cc",
   "metadata": {},
   "outputs": [
    {
     "data": {
      "text/plain": [
       "int"
      ]
     },
     "execution_count": 2,
     "metadata": {},
     "output_type": "execute_result"
    }
   ],
   "source": [
    "type(a)"
   ]
  },
  {
   "cell_type": "code",
   "execution_count": 3,
   "id": "704f39de-1723-4130-8e34-bc131475bfd6",
   "metadata": {},
   "outputs": [
    {
     "data": {
      "text/plain": [
       "400"
      ]
     },
     "execution_count": 3,
     "metadata": {},
     "output_type": "execute_result"
    }
   ],
   "source": [
    "a**2"
   ]
  },
  {
   "cell_type": "code",
   "execution_count": 4,
   "id": "215b8413-ce1f-44de-a86a-1d1ec844fc9c",
   "metadata": {},
   "outputs": [],
   "source": [
    "squ_a=a**(1/2)"
   ]
  },
  {
   "cell_type": "code",
   "execution_count": 5,
   "id": "34dd1021-db1e-4778-aabb-a92a26a20fa0",
   "metadata": {},
   "outputs": [
    {
     "data": {
      "text/plain": [
       "4.47213595499958"
      ]
     },
     "execution_count": 5,
     "metadata": {},
     "output_type": "execute_result"
    }
   ],
   "source": [
    "squ_a"
   ]
  },
  {
   "cell_type": "markdown",
   "id": "9a5a2dc1-3388-47b4-94d2-b199c6e15a1c",
   "metadata": {},
   "source": [
    "## boolean datatype"
   ]
  },
  {
   "cell_type": "code",
   "execution_count": 7,
   "id": "0d413f65-f678-49c5-85be-72d2bb0307b0",
   "metadata": {},
   "outputs": [
    {
     "data": {
      "text/plain": [
       "True"
      ]
     },
     "execution_count": 7,
     "metadata": {},
     "output_type": "execute_result"
    }
   ],
   "source": [
    "boolean1=True\n",
    "boolean1"
   ]
  },
  {
   "cell_type": "code",
   "execution_count": 8,
   "id": "18b8fb15-18bc-45f5-960b-c21091e1420f",
   "metadata": {},
   "outputs": [
    {
     "data": {
      "text/plain": [
       "bool"
      ]
     },
     "execution_count": 8,
     "metadata": {},
     "output_type": "execute_result"
    }
   ],
   "source": [
    "type(boolean1)"
   ]
  },
  {
   "cell_type": "code",
   "execution_count": 9,
   "id": "15dc088a-5d02-4332-9634-be18e32811bb",
   "metadata": {},
   "outputs": [],
   "source": [
    "fname=\"rashmi\""
   ]
  },
  {
   "cell_type": "code",
   "execution_count": 10,
   "id": "ecf3cff2-8ac7-4d40-a60a-1d09b169e960",
   "metadata": {},
   "outputs": [],
   "source": [
    "lname=\"savradekar\""
   ]
  },
  {
   "cell_type": "code",
   "execution_count": 11,
   "id": "51c647c1-f0e7-4de2-af8a-3dadfa4c5896",
   "metadata": {},
   "outputs": [],
   "source": [
    "fname=fname+\" \"+lname"
   ]
  },
  {
   "cell_type": "code",
   "execution_count": 12,
   "id": "80da0fd3-b113-4faf-8794-e3d402c32677",
   "metadata": {},
   "outputs": [
    {
     "data": {
      "text/plain": [
       "'rashmi savradekar'"
      ]
     },
     "execution_count": 12,
     "metadata": {},
     "output_type": "execute_result"
    }
   ],
   "source": [
    "fname"
   ]
  },
  {
   "cell_type": "code",
   "execution_count": 13,
   "id": "53fa81a4-de4a-4fde-b4a6-4ec090599854",
   "metadata": {},
   "outputs": [],
   "source": [
    "a1=40"
   ]
  },
  {
   "cell_type": "code",
   "execution_count": 14,
   "id": "e14165f4-2180-4d0f-807b-1ef337e73433",
   "metadata": {},
   "outputs": [],
   "source": [
    "b1=50"
   ]
  },
  {
   "cell_type": "code",
   "execution_count": 15,
   "id": "e74e7cf0-e503-45be-a855-37ccaafdd3f3",
   "metadata": {},
   "outputs": [
    {
     "name": "stdout",
     "output_type": "stream",
     "text": [
      "90\n"
     ]
    }
   ],
   "source": [
    "print(a1+b1)"
   ]
  },
  {
   "cell_type": "code",
   "execution_count": 16,
   "id": "b8db778a-9d06-4be4-baaf-f152ef7a2453",
   "metadata": {},
   "outputs": [
    {
     "name": "stdout",
     "output_type": "stream",
     "text": [
      "90\n",
      "-10\n",
      "0.8\n"
     ]
    }
   ],
   "source": [
    "print(a1+b1)\n",
    "print(a1-b1)\n",
    "print(a1/b1)"
   ]
  },
  {
   "cell_type": "code",
   "execution_count": 17,
   "id": "907c0510-25be-49ec-8057-fa95da29123c",
   "metadata": {},
   "outputs": [
    {
     "data": {
      "text/plain": [
       "'rashmi savradekar'"
      ]
     },
     "execution_count": 17,
     "metadata": {},
     "output_type": "execute_result"
    }
   ],
   "source": [
    "fname"
   ]
  },
  {
   "cell_type": "code",
   "execution_count": 18,
   "id": "bc44c9fe-d2a0-44b8-8b4a-9b33e2352871",
   "metadata": {},
   "outputs": [],
   "source": [
    "f1name=\"Rashmi\""
   ]
  },
  {
   "cell_type": "code",
   "execution_count": 19,
   "id": "8abec7ec-c647-4e34-be46-0cc3e6f7bfa8",
   "metadata": {},
   "outputs": [],
   "source": [
    "l1name=\"nandi\""
   ]
  },
  {
   "cell_type": "code",
   "execution_count": 20,
   "id": "ef8b6b3f-d537-4097-a340-2e1b5c847cf3",
   "metadata": {},
   "outputs": [
    {
     "data": {
      "text/plain": [
       "'Rashmi'"
      ]
     },
     "execution_count": 20,
     "metadata": {},
     "output_type": "execute_result"
    }
   ],
   "source": [
    "f1name"
   ]
  },
  {
   "cell_type": "code",
   "execution_count": 21,
   "id": "f0807f89-c942-4426-9696-2c1f75fbadd2",
   "metadata": {},
   "outputs": [
    {
     "data": {
      "text/plain": [
       "'nandi'"
      ]
     },
     "execution_count": 21,
     "metadata": {},
     "output_type": "execute_result"
    }
   ],
   "source": [
    "l1name"
   ]
  },
  {
   "cell_type": "code",
   "execution_count": 22,
   "id": "f511bfe4-3990-4a3f-ba25-24b714e75762",
   "metadata": {},
   "outputs": [
    {
     "name": "stdout",
     "output_type": "stream",
     "text": [
      "Help on built-in function print in module builtins:\n",
      "\n",
      "print(*args, sep=' ', end='\\n', file=None, flush=False)\n",
      "    Prints the values to a stream, or to sys.stdout by default.\n",
      "\n",
      "    sep\n",
      "      string inserted between values, default a space.\n",
      "    end\n",
      "      string appended after the last value, default a newline.\n",
      "    file\n",
      "      a file-like object (stream); defaults to the current sys.stdout.\n",
      "    flush\n",
      "      whether to forcibly flush the stream.\n",
      "\n"
     ]
    }
   ],
   "source": [
    "help(print)"
   ]
  },
  {
   "cell_type": "code",
   "execution_count": 23,
   "id": "b52a5c9d-1991-493d-8178-aaa117ac9f0d",
   "metadata": {},
   "outputs": [
    {
     "name": "stdout",
     "output_type": "stream",
     "text": [
      "Rashmi nandi\n"
     ]
    }
   ],
   "source": [
    "print(f1name,l1name)"
   ]
  },
  {
   "cell_type": "code",
   "execution_count": 24,
   "id": "ede8e061-37fc-424e-84a8-0926e333215e",
   "metadata": {},
   "outputs": [
    {
     "name": "stdout",
     "output_type": "stream",
     "text": [
      "Rashmi_nandi\n"
     ]
    }
   ],
   "source": [
    "print(f1name,l1name,sep=\"_\")"
   ]
  },
  {
   "cell_type": "code",
   "execution_count": 25,
   "id": "69d498d8-2f18-4b17-85f7-74d8753efbe4",
   "metadata": {},
   "outputs": [
    {
     "name": "stdout",
     "output_type": "stream",
     "text": [
      "a b c\n",
      "d e f\n"
     ]
    }
   ],
   "source": [
    "print(\"a\",\"b\",\"c\",end=\"\\n\")\n",
    "print(\"d\",\"e\",\"f\")"
   ]
  },
  {
   "cell_type": "code",
   "execution_count": 26,
   "id": "ebd04614-84f7-4b3d-8633-e0a64a923be9",
   "metadata": {},
   "outputs": [],
   "source": [
    "full_name=f1name+l1name"
   ]
  },
  {
   "cell_type": "code",
   "execution_count": 27,
   "id": "19006528-b96b-4fec-bf1d-9b05edc08520",
   "metadata": {},
   "outputs": [
    {
     "data": {
      "text/plain": [
       "'Rashminandi'"
      ]
     },
     "execution_count": 27,
     "metadata": {},
     "output_type": "execute_result"
    }
   ],
   "source": [
    "full_name"
   ]
  },
  {
   "cell_type": "code",
   "execution_count": 28,
   "id": "2b9d88bd-01aa-4212-817f-3381c2122d23",
   "metadata": {},
   "outputs": [
    {
     "name": "stdout",
     "output_type": "stream",
     "text": [
      "Rashminandi@gamil.com\n"
     ]
    }
   ],
   "source": [
    "print(full_name,\"gamil.com\",sep=\"@\")"
   ]
  },
  {
   "cell_type": "markdown",
   "id": "bed442d7-a398-4639-ba92-2a3b6bb1eeec",
   "metadata": {},
   "source": [
    "## lists"
   ]
  },
  {
   "cell_type": "code",
   "execution_count": 30,
   "id": "813badc1-369e-49b9-b1b0-6f5f622c2457",
   "metadata": {},
   "outputs": [],
   "source": [
    "emp_data=[101,\"raman\",\"raman@gmail.com\",\"HR\",25000,True]"
   ]
  },
  {
   "cell_type": "code",
   "execution_count": 31,
   "id": "cb42396f-5a3e-4f6b-8afc-5c8c8c49ff2c",
   "metadata": {},
   "outputs": [
    {
     "data": {
      "text/plain": [
       "[101, 'raman', 'raman@gmail.com', 'HR', 25000, True]"
      ]
     },
     "execution_count": 31,
     "metadata": {},
     "output_type": "execute_result"
    }
   ],
   "source": [
    "emp_data"
   ]
  },
  {
   "cell_type": "code",
   "execution_count": 32,
   "id": "30a249ef-df7d-41ca-8a1c-0e1eb3b99745",
   "metadata": {},
   "outputs": [
    {
     "data": {
      "text/plain": [
       "list"
      ]
     },
     "execution_count": 32,
     "metadata": {},
     "output_type": "execute_result"
    }
   ],
   "source": [
    "type(emp_data)"
   ]
  },
  {
   "cell_type": "code",
   "execution_count": 33,
   "id": "2456cc5e-6fbd-4edd-991e-f349b5ad1b6c",
   "metadata": {},
   "outputs": [
    {
     "data": {
      "text/plain": [
       "[101, 'raman']"
      ]
     },
     "execution_count": 33,
     "metadata": {},
     "output_type": "execute_result"
    }
   ],
   "source": [
    "emp_data[0:2]"
   ]
  },
  {
   "cell_type": "code",
   "execution_count": 34,
   "id": "eed8d2bd-77b4-46fd-8c23-18087da324fe",
   "metadata": {},
   "outputs": [
    {
     "data": {
      "text/plain": [
       "['raman@gmail.com', 'HR', 25000, True]"
      ]
     },
     "execution_count": 34,
     "metadata": {},
     "output_type": "execute_result"
    }
   ],
   "source": [
    "emp_data[2:6]"
   ]
  },
  {
   "cell_type": "code",
   "execution_count": 35,
   "id": "3532be09-6900-47a9-90d3-090558e58416",
   "metadata": {},
   "outputs": [
    {
     "data": {
      "text/plain": [
       "[101, 'raman', 'raman@gmail.com', 'HR']"
      ]
     },
     "execution_count": 35,
     "metadata": {},
     "output_type": "execute_result"
    }
   ],
   "source": [
    "emp_data[:4]"
   ]
  },
  {
   "cell_type": "code",
   "execution_count": 36,
   "id": "1e1e60b4-ec6f-4052-b848-109d511c262c",
   "metadata": {},
   "outputs": [
    {
     "data": {
      "text/plain": [
       "'raman'"
      ]
     },
     "execution_count": 36,
     "metadata": {},
     "output_type": "execute_result"
    }
   ],
   "source": [
    "emp_data[1]"
   ]
  },
  {
   "cell_type": "code",
   "execution_count": 37,
   "id": "2f04ea19-f88e-481c-a6f4-1ca46eecf8b6",
   "metadata": {},
   "outputs": [
    {
     "data": {
      "text/plain": [
       "[101, 'raman', 'raman@gmail.com', 'HR', 25000, True]"
      ]
     },
     "execution_count": 37,
     "metadata": {},
     "output_type": "execute_result"
    }
   ],
   "source": [
    "emp_data[:6]"
   ]
  },
  {
   "cell_type": "code",
   "execution_count": 38,
   "id": "2e0ea0ab-a409-4be9-adad-e0e2e5fb8693",
   "metadata": {},
   "outputs": [
    {
     "data": {
      "text/plain": [
       "['raman', 'HR']"
      ]
     },
     "execution_count": 38,
     "metadata": {},
     "output_type": "execute_result"
    }
   ],
   "source": [
    "emp_data[1:4:2]"
   ]
  },
  {
   "cell_type": "code",
   "execution_count": 39,
   "id": "f788e450-694a-4808-9434-154b4a3dcb7b",
   "metadata": {},
   "outputs": [
    {
     "data": {
      "text/plain": [
       "[101, 'raman@gmail.com']"
      ]
     },
     "execution_count": 39,
     "metadata": {},
     "output_type": "execute_result"
    }
   ],
   "source": [
    "emp_data[:4:2]"
   ]
  },
  {
   "cell_type": "code",
   "execution_count": 40,
   "id": "affdabb7-f2e3-4df1-a1d6-46f31d8baccc",
   "metadata": {},
   "outputs": [
    {
     "data": {
      "text/plain": [
       "[101, 'HR']"
      ]
     },
     "execution_count": 40,
     "metadata": {},
     "output_type": "execute_result"
    }
   ],
   "source": [
    "emp_data[::3]"
   ]
  },
  {
   "cell_type": "code",
   "execution_count": 41,
   "id": "4abf2e3a-3104-4fde-ab54-52e10459bee4",
   "metadata": {},
   "outputs": [
    {
     "data": {
      "text/plain": [
       "[True, 25000, 'HR', 'raman@gmail.com', 'raman', 101]"
      ]
     },
     "execution_count": 41,
     "metadata": {},
     "output_type": "execute_result"
    }
   ],
   "source": [
    "emp_data[::-1]"
   ]
  },
  {
   "cell_type": "code",
   "execution_count": 42,
   "id": "e82f7a31-5760-4fc4-9309-6bfca91352e4",
   "metadata": {},
   "outputs": [
    {
     "data": {
      "text/plain": [
       "[101, 'raman', 'raman@gmail.com', 'HR', 25000, True]"
      ]
     },
     "execution_count": 42,
     "metadata": {},
     "output_type": "execute_result"
    }
   ],
   "source": [
    "emp_data"
   ]
  },
  {
   "cell_type": "code",
   "execution_count": 43,
   "id": "5e975c95-98f1-4ccb-9bd0-9b9f15864bd7",
   "metadata": {},
   "outputs": [
    {
     "data": {
      "text/plain": [
       "True"
      ]
     },
     "execution_count": 43,
     "metadata": {},
     "output_type": "execute_result"
    }
   ],
   "source": [
    "emp_data[-1]"
   ]
  },
  {
   "cell_type": "code",
   "execution_count": 44,
   "id": "42c3ac7b-c9f4-4012-b938-90323429da44",
   "metadata": {},
   "outputs": [
    {
     "data": {
      "text/plain": [
       "[101, 'raman', 'raman@gmail.com', 'HR', 25000, True]"
      ]
     },
     "execution_count": 44,
     "metadata": {},
     "output_type": "execute_result"
    }
   ],
   "source": [
    "emp_data1=emp_data\n",
    "emp_data1"
   ]
  },
  {
   "cell_type": "code",
   "execution_count": 45,
   "id": "979fe505-c9e0-4eda-8f9c-7d55b0564148",
   "metadata": {},
   "outputs": [],
   "source": [
    "emp_data1.reverse()"
   ]
  },
  {
   "cell_type": "code",
   "execution_count": 46,
   "id": "2eb76da0-4d62-47e1-a33d-83572f214dba",
   "metadata": {},
   "outputs": [
    {
     "data": {
      "text/plain": [
       "[True, 25000, 'HR', 'raman@gmail.com', 'raman', 101]"
      ]
     },
     "execution_count": 46,
     "metadata": {},
     "output_type": "execute_result"
    }
   ],
   "source": [
    "emp_data1"
   ]
  },
  {
   "cell_type": "code",
   "execution_count": 47,
   "id": "fed2fd9b-ffe1-4588-9a2d-27e26c8adbc7",
   "metadata": {},
   "outputs": [
    {
     "data": {
      "text/plain": [
       "[True, 25000, 'HR', 'raman@gmail.com', 'raman', 101]"
      ]
     },
     "execution_count": 47,
     "metadata": {},
     "output_type": "execute_result"
    }
   ],
   "source": [
    "emp_data"
   ]
  },
  {
   "cell_type": "code",
   "execution_count": 48,
   "id": "ab7f7033-abd2-4491-aff8-f10a6c61bb0a",
   "metadata": {},
   "outputs": [],
   "source": [
    "l1=[12,13,14]"
   ]
  },
  {
   "cell_type": "code",
   "execution_count": 49,
   "id": "de7c3f14-a8a2-44f9-8294-f9828597097a",
   "metadata": {},
   "outputs": [
    {
     "data": {
      "text/plain": [
       "[12, 13, 14]"
      ]
     },
     "execution_count": 49,
     "metadata": {},
     "output_type": "execute_result"
    }
   ],
   "source": [
    "l1"
   ]
  },
  {
   "cell_type": "code",
   "execution_count": 50,
   "id": "0b425d83-b134-4126-9148-d5d850c00b70",
   "metadata": {},
   "outputs": [],
   "source": [
    "l1=l1[::-1]"
   ]
  },
  {
   "cell_type": "code",
   "execution_count": 51,
   "id": "4f4e0620-1f32-4bd6-bc47-6b42b79a6b08",
   "metadata": {},
   "outputs": [
    {
     "data": {
      "text/plain": [
       "[14, 13, 12]"
      ]
     },
     "execution_count": 51,
     "metadata": {},
     "output_type": "execute_result"
    }
   ],
   "source": [
    "l1"
   ]
  },
  {
   "cell_type": "markdown",
   "id": "20384272-b28b-44a0-a293-fb45cc3c4301",
   "metadata": {},
   "source": [
    "## lenght functiuon"
   ]
  },
  {
   "cell_type": "code",
   "execution_count": 53,
   "id": "0ab5b99a-2007-4b67-b11b-788c8e4880d1",
   "metadata": {},
   "outputs": [
    {
     "data": {
      "text/plain": [
       "3"
      ]
     },
     "execution_count": 53,
     "metadata": {},
     "output_type": "execute_result"
    }
   ],
   "source": [
    "len(l1)"
   ]
  },
  {
   "cell_type": "code",
   "execution_count": 54,
   "id": "9d168bb8-f1f8-407d-b3e8-adaa5a7296fb",
   "metadata": {},
   "outputs": [
    {
     "data": {
      "text/plain": [
       "6"
      ]
     },
     "execution_count": 54,
     "metadata": {},
     "output_type": "execute_result"
    }
   ],
   "source": [
    "len(emp_data)"
   ]
  },
  {
   "cell_type": "markdown",
   "id": "4510f167-30fa-418d-9f7e-285f20e8c6cb",
   "metadata": {},
   "source": [
    "## append fuction"
   ]
  },
  {
   "cell_type": "code",
   "execution_count": 56,
   "id": "ec72652b-efa1-4d36-bf3f-0f2b2372d0e0",
   "metadata": {},
   "outputs": [],
   "source": [
    "l2=[45,56,87,90,43]"
   ]
  },
  {
   "cell_type": "code",
   "execution_count": 57,
   "id": "93f3d356-d0f8-49cf-bd96-bfa277c066f0",
   "metadata": {},
   "outputs": [],
   "source": [
    "l2.append(12)"
   ]
  },
  {
   "cell_type": "code",
   "execution_count": 58,
   "id": "e8f4676e-0450-4b5e-acb8-91d0308d7f9d",
   "metadata": {},
   "outputs": [
    {
     "data": {
      "text/plain": [
       "[45, 56, 87, 90, 43, 12]"
      ]
     },
     "execution_count": 58,
     "metadata": {},
     "output_type": "execute_result"
    }
   ],
   "source": [
    "l2"
   ]
  },
  {
   "cell_type": "code",
   "execution_count": 59,
   "id": "31404692-cc3c-439d-9f49-6fa044687160",
   "metadata": {},
   "outputs": [],
   "source": [
    "a=[1,2,3,4]\n",
    "emp_data.append(a)"
   ]
  },
  {
   "cell_type": "code",
   "execution_count": 60,
   "id": "ed9a3f3e-c78e-47f0-8647-60caf08ddbce",
   "metadata": {},
   "outputs": [
    {
     "data": {
      "text/plain": [
       "[True, 25000, 'HR', 'raman@gmail.com', 'raman', 101, [1, 2, 3, 4]]"
      ]
     },
     "execution_count": 60,
     "metadata": {},
     "output_type": "execute_result"
    }
   ],
   "source": [
    "emp_data"
   ]
  },
  {
   "cell_type": "code",
   "execution_count": 61,
   "id": "650d1f9f-4c25-49aa-8791-926e9e36576c",
   "metadata": {},
   "outputs": [],
   "source": [
    "b=\"beautiful\"\n",
    "emp_data.append(b)"
   ]
  },
  {
   "cell_type": "code",
   "execution_count": 62,
   "id": "34a05e0a-b101-44ee-81a5-1b9f058a1a80",
   "metadata": {},
   "outputs": [
    {
     "data": {
      "text/plain": [
       "[True, 25000, 'HR', 'raman@gmail.com', 'raman', 101, [1, 2, 3, 4], 'beautiful']"
      ]
     },
     "execution_count": 62,
     "metadata": {},
     "output_type": "execute_result"
    }
   ],
   "source": [
    "emp_data"
   ]
  },
  {
   "cell_type": "markdown",
   "id": "348604b7-7c33-48d5-8ed8-954917cb7e58",
   "metadata": {},
   "source": [
    "## insert"
   ]
  },
  {
   "cell_type": "code",
   "execution_count": 64,
   "id": "afde8468-dbb6-4fc9-a0c7-b4e295c89e5c",
   "metadata": {},
   "outputs": [
    {
     "data": {
      "text/plain": [
       "[True, 25000, 'HR', 'raman@gmail.com', 'raman', 101, [1, 2, 3, 4], 'beautiful']"
      ]
     },
     "execution_count": 64,
     "metadata": {},
     "output_type": "execute_result"
    }
   ],
   "source": [
    "emp_data"
   ]
  },
  {
   "cell_type": "code",
   "execution_count": 65,
   "id": "81e3e40d-9ccb-44e1-b2e4-724ea9ed4886",
   "metadata": {},
   "outputs": [],
   "source": [
    "emp_data.insert(5,\"varman\")"
   ]
  },
  {
   "cell_type": "code",
   "execution_count": 66,
   "id": "4c278489-e12c-4296-b49c-8dfa651bbf01",
   "metadata": {},
   "outputs": [
    {
     "name": "stdout",
     "output_type": "stream",
     "text": [
      "[True, 25000, 'HR', 'raman@gmail.com', 'raman', 'varman', 101, [1, 2, 3, 4], 'beautiful']\n"
     ]
    }
   ],
   "source": [
    "print(emp_data)"
   ]
  },
  {
   "cell_type": "code",
   "execution_count": 67,
   "id": "66341ec5-f431-4db3-8b4c-adb10f93ac08",
   "metadata": {},
   "outputs": [],
   "source": [
    "emp_data.insert(2,26)"
   ]
  },
  {
   "cell_type": "code",
   "execution_count": 68,
   "id": "bc55403e-b85a-4ec2-a05a-3aab81989977",
   "metadata": {},
   "outputs": [
    {
     "name": "stdout",
     "output_type": "stream",
     "text": [
      "[True, 25000, 26, 'HR', 'raman@gmail.com', 'raman', 'varman', 101, [1, 2, 3, 4], 'beautiful']\n"
     ]
    }
   ],
   "source": [
    "print(emp_data)"
   ]
  },
  {
   "cell_type": "code",
   "execution_count": 69,
   "id": "69b371d3-dea6-41eb-b5cc-e6619bdcb0c5",
   "metadata": {},
   "outputs": [
    {
     "data": {
      "text/plain": [
       "[True,\n",
       " 25000,\n",
       " 26,\n",
       " 'HR',\n",
       " 'raman@gmail.com',\n",
       " 'raman',\n",
       " 'varman',\n",
       " 101,\n",
       " [1, 2, 3, 4],\n",
       " 'beautiful']"
      ]
     },
     "execution_count": 69,
     "metadata": {},
     "output_type": "execute_result"
    }
   ],
   "source": [
    "emp_data1"
   ]
  },
  {
   "cell_type": "code",
   "execution_count": 70,
   "id": "1c732c73-b5a9-400d-bc0c-a68fe3ca8c39",
   "metadata": {},
   "outputs": [],
   "source": [
    "emp_data1.insert(2,65)"
   ]
  },
  {
   "cell_type": "code",
   "execution_count": 71,
   "id": "e6130942-26a9-4db1-bfcf-34fff3999c9c",
   "metadata": {},
   "outputs": [
    {
     "data": {
      "text/plain": [
       "[True,\n",
       " 25000,\n",
       " 65,\n",
       " 26,\n",
       " 'HR',\n",
       " 'raman@gmail.com',\n",
       " 'raman',\n",
       " 'varman',\n",
       " 101,\n",
       " [1, 2, 3, 4],\n",
       " 'beautiful']"
      ]
     },
     "execution_count": 71,
     "metadata": {},
     "output_type": "execute_result"
    }
   ],
   "source": [
    "emp_data1"
   ]
  },
  {
   "cell_type": "code",
   "execution_count": 72,
   "id": "70b2d5cc-a7fb-4277-8ebc-ab202e08b59f",
   "metadata": {},
   "outputs": [],
   "source": [
    "b=[\"a\",\"b\",\"c\"]"
   ]
  },
  {
   "cell_type": "code",
   "execution_count": 73,
   "id": "11952686-59e4-4c7b-b7bb-32e3ca772616",
   "metadata": {},
   "outputs": [
    {
     "data": {
      "text/plain": [
       "['a', 'b', 'c']"
      ]
     },
     "execution_count": 73,
     "metadata": {},
     "output_type": "execute_result"
    }
   ],
   "source": [
    "b"
   ]
  },
  {
   "cell_type": "code",
   "execution_count": 74,
   "id": "0d5e72a2-dba7-42fc-98e2-8dff2936c65e",
   "metadata": {},
   "outputs": [],
   "source": [
    "emp_data1.insert(0,b)"
   ]
  },
  {
   "cell_type": "code",
   "execution_count": 75,
   "id": "c062cc7a-484e-4841-a737-c1161f74c875",
   "metadata": {},
   "outputs": [
    {
     "data": {
      "text/plain": [
       "[['a', 'b', 'c'],\n",
       " True,\n",
       " 25000,\n",
       " 65,\n",
       " 26,\n",
       " 'HR',\n",
       " 'raman@gmail.com',\n",
       " 'raman',\n",
       " 'varman',\n",
       " 101,\n",
       " [1, 2, 3, 4],\n",
       " 'beautiful']"
      ]
     },
     "execution_count": 75,
     "metadata": {},
     "output_type": "execute_result"
    }
   ],
   "source": [
    "emp_data1"
   ]
  },
  {
   "cell_type": "markdown",
   "id": "aa5c3848-a12f-4075-b0f7-69b752939f0d",
   "metadata": {},
   "source": [
    "## Remove"
   ]
  },
  {
   "cell_type": "code",
   "execution_count": 77,
   "id": "b7dcbe03-47ce-4786-9a37-edb4f2e2232c",
   "metadata": {},
   "outputs": [
    {
     "name": "stdout",
     "output_type": "stream",
     "text": [
      "[['a', 'b', 'c'], True, 25000, 65, 26, 'HR', 'raman@gmail.com', 'raman', 'varman', 101, [1, 2, 3, 4], 'beautiful']\n"
     ]
    }
   ],
   "source": [
    "print(emp_data1)"
   ]
  },
  {
   "cell_type": "code",
   "execution_count": 78,
   "id": "1f3034df-765e-466e-ba00-49b3a47b20d1",
   "metadata": {},
   "outputs": [],
   "source": [
    "emp_data1.remove(a)"
   ]
  },
  {
   "cell_type": "code",
   "execution_count": 79,
   "id": "8ec2a35d-bdfd-467c-aa23-3c3ec6bccaa8",
   "metadata": {},
   "outputs": [
    {
     "data": {
      "text/plain": [
       "[['a', 'b', 'c'],\n",
       " True,\n",
       " 25000,\n",
       " 65,\n",
       " 26,\n",
       " 'HR',\n",
       " 'raman@gmail.com',\n",
       " 'raman',\n",
       " 'varman',\n",
       " 101,\n",
       " 'beautiful']"
      ]
     },
     "execution_count": 79,
     "metadata": {},
     "output_type": "execute_result"
    }
   ],
   "source": [
    "emp_data1"
   ]
  },
  {
   "cell_type": "code",
   "execution_count": 80,
   "id": "fe265ca5-8e7a-4362-871d-eb459ad4bc52",
   "metadata": {},
   "outputs": [],
   "source": [
    "emp_data1.remove(b)"
   ]
  },
  {
   "cell_type": "code",
   "execution_count": 81,
   "id": "07d1c6f2-624b-4eec-869f-2727f9750818",
   "metadata": {},
   "outputs": [
    {
     "name": "stdout",
     "output_type": "stream",
     "text": [
      "[True, 25000, 65, 26, 'HR', 'raman@gmail.com', 'raman', 'varman', 101, 'beautiful']\n"
     ]
    }
   ],
   "source": [
    "print(emp_data1)"
   ]
  },
  {
   "cell_type": "code",
   "execution_count": 82,
   "id": "7f31f370-c101-4062-b749-8ccce8e810ca",
   "metadata": {},
   "outputs": [],
   "source": [
    "emp_data1.remove(\"beautiful\")"
   ]
  },
  {
   "cell_type": "code",
   "execution_count": 83,
   "id": "c152c0c8-39f6-494c-b2c1-9ca2a7752d67",
   "metadata": {},
   "outputs": [
    {
     "name": "stdout",
     "output_type": "stream",
     "text": [
      "[True, 25000, 65, 26, 'HR', 'raman@gmail.com', 'raman', 'varman', 101]\n"
     ]
    }
   ],
   "source": [
    "print(emp_data1)"
   ]
  },
  {
   "cell_type": "code",
   "execution_count": 84,
   "id": "a13270ae-c1db-4672-9937-6071d449c42a",
   "metadata": {},
   "outputs": [
    {
     "data": {
      "text/plain": [
       "[True, 25000, 65, 26, 'HR', 'raman@gmail.com', 'raman', 'varman', 101]"
      ]
     },
     "execution_count": 84,
     "metadata": {},
     "output_type": "execute_result"
    }
   ],
   "source": [
    "emp_data1"
   ]
  },
  {
   "cell_type": "code",
   "execution_count": 85,
   "id": "cd549048-c763-4b18-afe0-52a9969a9c4f",
   "metadata": {},
   "outputs": [],
   "source": [
    "emp_data1.insert(1,a)"
   ]
  },
  {
   "cell_type": "code",
   "execution_count": 86,
   "id": "758600b3-0b6a-4b0a-844b-afd719873cdf",
   "metadata": {},
   "outputs": [
    {
     "name": "stdout",
     "output_type": "stream",
     "text": [
      "[True, [1, 2, 3, 4], 25000, 65, 26, 'HR', 'raman@gmail.com', 'raman', 'varman', 101]\n"
     ]
    }
   ],
   "source": [
    "print(emp_data1)"
   ]
  },
  {
   "cell_type": "code",
   "execution_count": 87,
   "id": "38114f2c-a013-4375-9971-d95fd24e1496",
   "metadata": {},
   "outputs": [],
   "source": [
    "emp_data1.remove([1, 2, 3, 4])"
   ]
  },
  {
   "cell_type": "code",
   "execution_count": 88,
   "id": "6bd4f2c8-deb2-47ac-b7a2-c741b59059c3",
   "metadata": {},
   "outputs": [
    {
     "data": {
      "text/plain": [
       "[True, 25000, 65, 26, 'HR', 'raman@gmail.com', 'raman', 'varman', 101]"
      ]
     },
     "execution_count": 88,
     "metadata": {},
     "output_type": "execute_result"
    }
   ],
   "source": [
    "emp_data1"
   ]
  },
  {
   "cell_type": "markdown",
   "id": "08906fa0-9beb-4999-8b9b-d16362a61dc6",
   "metadata": {},
   "source": [
    "## pop"
   ]
  },
  {
   "cell_type": "code",
   "execution_count": 90,
   "id": "fea131b2-0143-413a-8622-0816d9713ae6",
   "metadata": {},
   "outputs": [
    {
     "name": "stdout",
     "output_type": "stream",
     "text": [
      "[True, 25000, 65, 26, 'HR', 'raman@gmail.com', 'raman', 'varman', 101]\n"
     ]
    }
   ],
   "source": [
    "print(emp_data1)"
   ]
  },
  {
   "cell_type": "code",
   "execution_count": 91,
   "id": "fc9999af-1bf9-4745-9ab1-2afe43fae35b",
   "metadata": {},
   "outputs": [
    {
     "data": {
      "text/plain": [
       "101"
      ]
     },
     "execution_count": 91,
     "metadata": {},
     "output_type": "execute_result"
    }
   ],
   "source": [
    "emp_data1.pop()"
   ]
  },
  {
   "cell_type": "code",
   "execution_count": 92,
   "id": "767ac2b0-523c-458b-8a63-6193850c1fbb",
   "metadata": {},
   "outputs": [
    {
     "name": "stdout",
     "output_type": "stream",
     "text": [
      "[True, 25000, 65, 26, 'HR', 'raman@gmail.com', 'raman', 'varman']\n"
     ]
    }
   ],
   "source": [
    "print(emp_data1)"
   ]
  },
  {
   "cell_type": "code",
   "execution_count": 93,
   "id": "ce581b26-7375-47dc-92c8-66f481fc2966",
   "metadata": {},
   "outputs": [
    {
     "data": {
      "text/plain": [
       "True"
      ]
     },
     "execution_count": 93,
     "metadata": {},
     "output_type": "execute_result"
    }
   ],
   "source": [
    "emp_data1.pop(0)"
   ]
  },
  {
   "cell_type": "code",
   "execution_count": 94,
   "id": "87e73a69-1ab1-4924-a29c-cb1f0cd2b407",
   "metadata": {},
   "outputs": [
    {
     "data": {
      "text/plain": [
       "[25000, 65, 26, 'HR', 'raman@gmail.com', 'raman', 'varman']"
      ]
     },
     "execution_count": 94,
     "metadata": {},
     "output_type": "execute_result"
    }
   ],
   "source": [
    "emp_data1"
   ]
  },
  {
   "cell_type": "code",
   "execution_count": 95,
   "id": "527249be-a95d-40f0-b1f8-021db00f9771",
   "metadata": {},
   "outputs": [
    {
     "data": {
      "text/plain": [
       "'HR'"
      ]
     },
     "execution_count": 95,
     "metadata": {},
     "output_type": "execute_result"
    }
   ],
   "source": [
    "emp_data1.pop(3)"
   ]
  },
  {
   "cell_type": "code",
   "execution_count": 96,
   "id": "a1ded633-148b-482c-9824-11026e75c095",
   "metadata": {},
   "outputs": [
    {
     "data": {
      "text/plain": [
       "[25000, 65, 26, 'raman@gmail.com', 'raman', 'varman']"
      ]
     },
     "execution_count": 96,
     "metadata": {},
     "output_type": "execute_result"
    }
   ],
   "source": [
    "emp_data1"
   ]
  },
  {
   "cell_type": "code",
   "execution_count": 97,
   "id": "23eb0601-08e2-4331-a505-feaae07a664e",
   "metadata": {},
   "outputs": [
    {
     "data": {
      "text/plain": [
       "[25000, 65, 26, 'raman@gmail.com', 'raman', 'varman']"
      ]
     },
     "execution_count": 97,
     "metadata": {},
     "output_type": "execute_result"
    }
   ],
   "source": [
    "emp_data"
   ]
  },
  {
   "cell_type": "markdown",
   "id": "361023be-9479-490b-be6d-7a5dd604a1dd",
   "metadata": {},
   "source": [
    "## finding index value"
   ]
  },
  {
   "cell_type": "code",
   "execution_count": null,
   "id": "e84d348b-6740-4b58-aff3-bc78588d83bd",
   "metadata": {},
   "outputs": [],
   "source": [
    "l1"
   ]
  },
  {
   "cell_type": "code",
   "execution_count": 100,
   "id": "aea1d432-b3fe-468a-9df8-dbad536a5284",
   "metadata": {},
   "outputs": [],
   "source": [
    "l1.append(12)"
   ]
  },
  {
   "cell_type": "code",
   "execution_count": 101,
   "id": "f43a6863-aca2-4fb2-94cd-f7ce354ab1b6",
   "metadata": {},
   "outputs": [],
   "source": [
    "l1.append(13)"
   ]
  },
  {
   "cell_type": "code",
   "execution_count": 102,
   "id": "a5dec98d-9af2-40bf-8be3-ac47f60b719c",
   "metadata": {},
   "outputs": [],
   "source": [
    "l1.append(15)"
   ]
  },
  {
   "cell_type": "code",
   "execution_count": 103,
   "id": "b80bfc3a-b1a2-478e-b6cd-5f6e4203d03c",
   "metadata": {},
   "outputs": [],
   "source": [
    "l1.append(13)"
   ]
  },
  {
   "cell_type": "code",
   "execution_count": 104,
   "id": "c42501a0-66f1-41b7-b011-d72c96f38db6",
   "metadata": {},
   "outputs": [
    {
     "data": {
      "text/plain": [
       "[14, 13, 12, 12, 13, 15, 13]"
      ]
     },
     "execution_count": 104,
     "metadata": {},
     "output_type": "execute_result"
    }
   ],
   "source": [
    "l1"
   ]
  },
  {
   "cell_type": "code",
   "execution_count": 105,
   "id": "c27bb648-be0c-4ed8-93d7-415277f97092",
   "metadata": {},
   "outputs": [
    {
     "data": {
      "text/plain": [
       "1"
      ]
     },
     "execution_count": 105,
     "metadata": {},
     "output_type": "execute_result"
    }
   ],
   "source": [
    "l1.index(13)"
   ]
  },
  {
   "cell_type": "code",
   "execution_count": 106,
   "id": "6aa1a3be-0b8f-4435-8a21-1642ce872665",
   "metadata": {},
   "outputs": [
    {
     "data": {
      "text/plain": [
       "4"
      ]
     },
     "execution_count": 106,
     "metadata": {},
     "output_type": "execute_result"
    }
   ],
   "source": [
    "l1.index(13,2)"
   ]
  },
  {
   "cell_type": "code",
   "execution_count": 107,
   "id": "79bcd878-e85b-49b6-92ba-95ba34b001b4",
   "metadata": {},
   "outputs": [
    {
     "data": {
      "text/plain": [
       "6"
      ]
     },
     "execution_count": 107,
     "metadata": {},
     "output_type": "execute_result"
    }
   ],
   "source": [
    "l1.index(13,5)"
   ]
  },
  {
   "cell_type": "code",
   "execution_count": 108,
   "id": "87636c11-b960-4b54-a95c-e931e3c7e0c7",
   "metadata": {},
   "outputs": [
    {
     "data": {
      "text/plain": [
       "6"
      ]
     },
     "execution_count": 108,
     "metadata": {},
     "output_type": "execute_result"
    }
   ],
   "source": [
    "l1.index(13,6,8)"
   ]
  },
  {
   "cell_type": "code",
   "execution_count": 109,
   "id": "7536d787-2734-4e22-b9c2-45259af00d47",
   "metadata": {},
   "outputs": [
    {
     "data": {
      "text/plain": [
       "2"
      ]
     },
     "execution_count": 109,
     "metadata": {},
     "output_type": "execute_result"
    }
   ],
   "source": [
    "l1.index(12,1)"
   ]
  },
  {
   "cell_type": "code",
   "execution_count": 110,
   "id": "4bf02848-86dc-448b-bd2c-63547ec24c8b",
   "metadata": {},
   "outputs": [
    {
     "data": {
      "text/plain": [
       "3"
      ]
     },
     "execution_count": 110,
     "metadata": {},
     "output_type": "execute_result"
    }
   ],
   "source": [
    "l1.index(12,3,5)"
   ]
  },
  {
   "cell_type": "markdown",
   "id": "f0a658f1-a07d-4c56-9047-db5a19f555c3",
   "metadata": {},
   "source": [
    "# merging two lists"
   ]
  },
  {
   "cell_type": "code",
   "execution_count": 112,
   "id": "36cc2094-0b5c-4480-8c5c-b0ddc5643b06",
   "metadata": {},
   "outputs": [],
   "source": [
    "Country=[\"India\",\"Russia\",\"Australia\"]\n",
    "Country_codes=[\"In\",\"Ru\",\"Au\"]"
   ]
  },
  {
   "cell_type": "code",
   "execution_count": 113,
   "id": "40a14100-65b7-45aa-b17c-d0be4d733723",
   "metadata": {},
   "outputs": [],
   "source": [
    "Country.extend(Country_codes)"
   ]
  },
  {
   "cell_type": "code",
   "execution_count": 114,
   "id": "edc10002-7fa6-485a-a8af-7527bd97a812",
   "metadata": {},
   "outputs": [
    {
     "data": {
      "text/plain": [
       "['India', 'Russia', 'Australia', 'In', 'Ru', 'Au']"
      ]
     },
     "execution_count": 114,
     "metadata": {},
     "output_type": "execute_result"
    }
   ],
   "source": [
    "Country"
   ]
  },
  {
   "cell_type": "code",
   "execution_count": 115,
   "id": "7f26ec33-4497-409c-a298-065a7d805ead",
   "metadata": {},
   "outputs": [],
   "source": [
    "Country_codes.extend(Country)"
   ]
  },
  {
   "cell_type": "code",
   "execution_count": 116,
   "id": "8ac94266-8f55-4a70-9c7a-82a8977bcaa3",
   "metadata": {},
   "outputs": [
    {
     "data": {
      "text/plain": [
       "['In', 'Ru', 'Au', 'India', 'Russia', 'Australia', 'In', 'Ru', 'Au']"
      ]
     },
     "execution_count": 116,
     "metadata": {},
     "output_type": "execute_result"
    }
   ],
   "source": [
    "Country_codes"
   ]
  },
  {
   "cell_type": "code",
   "execution_count": 117,
   "id": "fc7411bd-3938-404a-852e-498b794fcbb2",
   "metadata": {},
   "outputs": [],
   "source": [
    "Fruits=[\"banana\",\"apple\",\"orange\"]\n",
    "calories=[34,45,67,64,23]"
   ]
  },
  {
   "cell_type": "code",
   "execution_count": 118,
   "id": "f43db477-e700-4ef0-abd7-fa5362e3fc9f",
   "metadata": {},
   "outputs": [],
   "source": [
    "calories.extend(Fruits)"
   ]
  },
  {
   "cell_type": "code",
   "execution_count": 119,
   "id": "7595dd9c-ac54-4d21-bc8f-b6bca7b38fb9",
   "metadata": {},
   "outputs": [
    {
     "data": {
      "text/plain": [
       "[34, 45, 67, 64, 23, 'banana', 'apple', 'orange']"
      ]
     },
     "execution_count": 119,
     "metadata": {},
     "output_type": "execute_result"
    }
   ],
   "source": [
    "calories"
   ]
  },
  {
   "cell_type": "code",
   "execution_count": 120,
   "id": "e61ff3bb-11c5-450a-887e-c4d720893622",
   "metadata": {},
   "outputs": [],
   "source": [
    "F1=Fruits"
   ]
  },
  {
   "cell_type": "code",
   "execution_count": 121,
   "id": "39ab5627-338e-46ea-b05a-e02097fabab4",
   "metadata": {},
   "outputs": [
    {
     "data": {
      "text/plain": [
       "['banana', 'apple', 'orange']"
      ]
     },
     "execution_count": 121,
     "metadata": {},
     "output_type": "execute_result"
    }
   ],
   "source": [
    "F1"
   ]
  },
  {
   "cell_type": "code",
   "execution_count": 122,
   "id": "9011598c-656d-4706-b0af-cc8da0a513aa",
   "metadata": {},
   "outputs": [],
   "source": [
    "C1=calories"
   ]
  },
  {
   "cell_type": "code",
   "execution_count": 123,
   "id": "577fe598-f8a3-4de1-8655-e2bcfb19cb6a",
   "metadata": {},
   "outputs": [
    {
     "data": {
      "text/plain": [
       "[34, 45, 67, 64, 23, 'banana', 'apple', 'orange']"
      ]
     },
     "execution_count": 123,
     "metadata": {},
     "output_type": "execute_result"
    }
   ],
   "source": [
    "C1"
   ]
  },
  {
   "cell_type": "code",
   "execution_count": 124,
   "id": "3d530743-73d4-497e-a7db-a86e09a2fea8",
   "metadata": {},
   "outputs": [],
   "source": [
    "C2=[23,34,23,45,12]"
   ]
  },
  {
   "cell_type": "code",
   "execution_count": 125,
   "id": "b8c3b27d-30b7-4617-af33-1f0d75867586",
   "metadata": {},
   "outputs": [
    {
     "data": {
      "text/plain": [
       "[23, 34, 23, 45, 12]"
      ]
     },
     "execution_count": 125,
     "metadata": {},
     "output_type": "execute_result"
    }
   ],
   "source": [
    "C2"
   ]
  },
  {
   "cell_type": "code",
   "execution_count": 126,
   "id": "2c59683b-c718-4b15-a069-6b23c524fca9",
   "metadata": {},
   "outputs": [],
   "source": [
    "F1.append(C2)"
   ]
  },
  {
   "cell_type": "code",
   "execution_count": 127,
   "id": "96fb0f52-2738-4396-aa37-5b4e2b7babe1",
   "metadata": {},
   "outputs": [
    {
     "data": {
      "text/plain": [
       "['banana', 'apple', 'orange', [23, 34, 23, 45, 12]]"
      ]
     },
     "execution_count": 127,
     "metadata": {},
     "output_type": "execute_result"
    }
   ],
   "source": [
    "F1"
   ]
  },
  {
   "cell_type": "code",
   "execution_count": 128,
   "id": "4adbb326-9a6a-4868-bc9c-d5ce30b7cc0b",
   "metadata": {},
   "outputs": [],
   "source": [
    "F1.reverse()"
   ]
  },
  {
   "cell_type": "code",
   "execution_count": 129,
   "id": "14abdb06-17d4-43a6-8379-a9dfe96b99c5",
   "metadata": {},
   "outputs": [
    {
     "data": {
      "text/plain": [
       "[[23, 34, 23, 45, 12], 'orange', 'apple', 'banana']"
      ]
     },
     "execution_count": 129,
     "metadata": {},
     "output_type": "execute_result"
    }
   ],
   "source": [
    "F1"
   ]
  },
  {
   "cell_type": "code",
   "execution_count": 130,
   "id": "4f254f50-af17-4b59-bb21-20ceb279edaa",
   "metadata": {},
   "outputs": [
    {
     "data": {
      "text/plain": [
       "[[23, 34, 23, 45, 12], 'orange', 'apple', 'banana']"
      ]
     },
     "execution_count": 130,
     "metadata": {},
     "output_type": "execute_result"
    }
   ],
   "source": [
    "F1"
   ]
  },
  {
   "cell_type": "code",
   "execution_count": 131,
   "id": "64ce121b-558a-494e-9859-b10b0d952cf0",
   "metadata": {},
   "outputs": [
    {
     "data": {
      "text/plain": [
       "[[23, 34, 23, 45, 12], 'orange', 'apple', 'banana']"
      ]
     },
     "execution_count": 131,
     "metadata": {},
     "output_type": "execute_result"
    }
   ],
   "source": [
    "Fruits"
   ]
  },
  {
   "cell_type": "code",
   "execution_count": 132,
   "id": "56fbae17-aff0-4247-8d83-a4eb41f14348",
   "metadata": {},
   "outputs": [
    {
     "data": {
      "text/plain": [
       "[23, 34, 23, 45, 12]"
      ]
     },
     "execution_count": 132,
     "metadata": {},
     "output_type": "execute_result"
    }
   ],
   "source": [
    "F1[-4]"
   ]
  },
  {
   "cell_type": "code",
   "execution_count": 133,
   "id": "abdd4a42-14b2-4dee-9174-8085156be2f6",
   "metadata": {},
   "outputs": [
    {
     "data": {
      "text/plain": [
       "'banana'"
      ]
     },
     "execution_count": 133,
     "metadata": {},
     "output_type": "execute_result"
    }
   ],
   "source": [
    "F1[-1]"
   ]
  },
  {
   "cell_type": "markdown",
   "id": "5cbdf0b8-9817-4061-9fe9-ad78e3e74610",
   "metadata": {},
   "source": [
    "## tuples\n",
    "tules are immutable"
   ]
  },
  {
   "cell_type": "code",
   "execution_count": 135,
   "id": "e8fff586-1898-499a-b337-64f3942a3339",
   "metadata": {},
   "outputs": [],
   "source": [
    "ab1=(12,13,14,15,16,17)"
   ]
  },
  {
   "cell_type": "code",
   "execution_count": 136,
   "id": "85ec9577-ddfd-480b-8c2d-83f497d7671c",
   "metadata": {},
   "outputs": [
    {
     "data": {
      "text/plain": [
       "tuple"
      ]
     },
     "execution_count": 136,
     "metadata": {},
     "output_type": "execute_result"
    }
   ],
   "source": [
    "type(ab1)"
   ]
  },
  {
   "cell_type": "code",
   "execution_count": 137,
   "id": "045f175e-ec80-4e9a-ac30-0b17ad13b351",
   "metadata": {},
   "outputs": [
    {
     "data": {
      "text/plain": [
       "6"
      ]
     },
     "execution_count": 137,
     "metadata": {},
     "output_type": "execute_result"
    }
   ],
   "source": [
    "len(ab1)"
   ]
  },
  {
   "cell_type": "code",
   "execution_count": 138,
   "id": "f3b17b7e-b92f-4a46-8c6e-a6f639e0642d",
   "metadata": {},
   "outputs": [
    {
     "data": {
      "text/plain": [
       "0"
      ]
     },
     "execution_count": 138,
     "metadata": {},
     "output_type": "execute_result"
    }
   ],
   "source": [
    "ab1.index(12)"
   ]
  },
  {
   "cell_type": "markdown",
   "id": "894f9668-5c5d-4fa3-81fa-bbd3722fcb9b",
   "metadata": {},
   "source": [
    "## type casting"
   ]
  },
  {
   "cell_type": "code",
   "execution_count": 140,
   "id": "2ce03c7d-e4de-4fba-a768-089ae3fc6c5d",
   "metadata": {},
   "outputs": [
    {
     "data": {
      "text/plain": [
       "[12, 13, 14, 15, 16, 17]"
      ]
     },
     "execution_count": 140,
     "metadata": {},
     "output_type": "execute_result"
    }
   ],
   "source": [
    "list(ab1)"
   ]
  },
  {
   "cell_type": "code",
   "execution_count": 141,
   "id": "276a719b-44dd-484e-be67-f299cafb93d6",
   "metadata": {},
   "outputs": [
    {
     "data": {
      "text/plain": [
       "(12, 13, 14, 15, 16, 17)"
      ]
     },
     "execution_count": 141,
     "metadata": {},
     "output_type": "execute_result"
    }
   ],
   "source": [
    "ab1"
   ]
  },
  {
   "cell_type": "code",
   "execution_count": 142,
   "id": "b7c8c3c4-2915-4395-b2ec-59cffe8244cb",
   "metadata": {},
   "outputs": [],
   "source": [
    "ab2=list(ab1)"
   ]
  },
  {
   "cell_type": "code",
   "execution_count": 143,
   "id": "69144a84-0a6a-49f3-84e7-2dc9993f08b8",
   "metadata": {},
   "outputs": [
    {
     "data": {
      "text/plain": [
       "[12, 13, 14, 15, 16, 17]"
      ]
     },
     "execution_count": 143,
     "metadata": {},
     "output_type": "execute_result"
    }
   ],
   "source": [
    "ab2"
   ]
  },
  {
   "cell_type": "code",
   "execution_count": 144,
   "id": "a67d9022-0d83-4c1f-94a2-8291a6958d64",
   "metadata": {},
   "outputs": [],
   "source": [
    "ab2.append(18)"
   ]
  },
  {
   "cell_type": "code",
   "execution_count": 145,
   "id": "ce1d8fd7-0819-4661-90da-b123eed874ce",
   "metadata": {},
   "outputs": [
    {
     "data": {
      "text/plain": [
       "[12, 13, 14, 15, 16, 17, 18]"
      ]
     },
     "execution_count": 145,
     "metadata": {},
     "output_type": "execute_result"
    }
   ],
   "source": [
    "ab2"
   ]
  },
  {
   "cell_type": "code",
   "execution_count": 146,
   "id": "8a7dc96d-7d87-4311-99ec-da1c8cdeb62f",
   "metadata": {},
   "outputs": [
    {
     "data": {
      "text/plain": [
       "(12, 13, 14, 15, 16, 17, 18)"
      ]
     },
     "execution_count": 146,
     "metadata": {},
     "output_type": "execute_result"
    }
   ],
   "source": [
    "tuple(ab2)"
   ]
  },
  {
   "cell_type": "code",
   "execution_count": 147,
   "id": "b29c61e2-2ae9-4b11-930f-e84a9b46e1d3",
   "metadata": {},
   "outputs": [
    {
     "data": {
      "text/plain": [
       "[12, 13, 14, 15, 16, 17, 18]"
      ]
     },
     "execution_count": 147,
     "metadata": {},
     "output_type": "execute_result"
    }
   ],
   "source": [
    "ab2"
   ]
  },
  {
   "cell_type": "code",
   "execution_count": 148,
   "id": "6aecd8fd-3978-458e-81f4-d0caa7fd0d0d",
   "metadata": {},
   "outputs": [],
   "source": [
    "ab1=tuple(ab2)"
   ]
  },
  {
   "cell_type": "code",
   "execution_count": 149,
   "id": "ed4114cd-d11b-4148-84c1-4c68a5180276",
   "metadata": {},
   "outputs": [
    {
     "data": {
      "text/plain": [
       "(12, 13, 14, 15, 16, 17, 18)"
      ]
     },
     "execution_count": 149,
     "metadata": {},
     "output_type": "execute_result"
    }
   ],
   "source": [
    "ab1"
   ]
  },
  {
   "cell_type": "code",
   "execution_count": 150,
   "id": "fabfd877-2e04-4f48-9607-4b0621b46b17",
   "metadata": {},
   "outputs": [],
   "source": [
    "a=\"23\"\n",
    "b=\"12\""
   ]
  },
  {
   "cell_type": "code",
   "execution_count": 151,
   "id": "755ee0ca-13ff-42f4-83cb-6b07b989a1b2",
   "metadata": {},
   "outputs": [
    {
     "name": "stdout",
     "output_type": "stream",
     "text": [
      "23 12\n"
     ]
    }
   ],
   "source": [
    "a=int(a)\n",
    "b=int(b)\n",
    "print(a,b)\n",
    "    "
   ]
  },
  {
   "cell_type": "code",
   "execution_count": 152,
   "id": "199d7455-c14c-4b1c-b32d-a355da9bb3a1",
   "metadata": {},
   "outputs": [
    {
     "data": {
      "text/plain": [
       "int"
      ]
     },
     "execution_count": 152,
     "metadata": {},
     "output_type": "execute_result"
    }
   ],
   "source": [
    "type(a)"
   ]
  },
  {
   "cell_type": "code",
   "execution_count": 153,
   "id": "e07f3b35-26e2-4f3b-ae2b-a26686843e30",
   "metadata": {},
   "outputs": [],
   "source": [
    "a=\"23t\"\n",
    "b=\"45t\""
   ]
  },
  {
   "cell_type": "code",
   "execution_count": 154,
   "id": "422f9bd7-8b3f-484a-a6ef-bd1803c24cd1",
   "metadata": {},
   "outputs": [],
   "source": [
    "#a=int(a)\n",
    "#b=int(b)\n",
    "#print(a,b)\n",
    "     "
   ]
  },
  {
   "cell_type": "code",
   "execution_count": 155,
   "id": "9036b94d-aeea-4988-9d24-b44956d6cf38",
   "metadata": {},
   "outputs": [],
   "source": [
    "ab=\"23.5\"\n",
    "bc=\"21.4\"\n"
   ]
  },
  {
   "cell_type": "code",
   "execution_count": 156,
   "id": "a8cb588a-57cd-4849-8d2e-b503ad264684",
   "metadata": {},
   "outputs": [
    {
     "name": "stdout",
     "output_type": "stream",
     "text": [
      "23.5 21.4\n"
     ]
    }
   ],
   "source": [
    "ab=float(ab)\n",
    "bc=float(bc)\n",
    "print(ab,bc)"
   ]
  },
  {
   "cell_type": "code",
   "execution_count": 157,
   "id": "f3e9a4a0-c37c-433b-b6c2-3e5df5e13ef5",
   "metadata": {},
   "outputs": [
    {
     "data": {
      "text/plain": [
       "float"
      ]
     },
     "execution_count": 157,
     "metadata": {},
     "output_type": "execute_result"
    }
   ],
   "source": [
    "type(ab)"
   ]
  },
  {
   "cell_type": "code",
   "execution_count": 158,
   "id": "ff20f9bf-e5a8-4d3b-9c4d-20194af27428",
   "metadata": {},
   "outputs": [],
   "source": [
    "l1=[1,2,3,4,5,6]"
   ]
  },
  {
   "cell_type": "code",
   "execution_count": 159,
   "id": "f049609a-aed4-497d-a8c9-116c3e4f1a97",
   "metadata": {},
   "outputs": [
    {
     "data": {
      "text/plain": [
       "6"
      ]
     },
     "execution_count": 159,
     "metadata": {},
     "output_type": "execute_result"
    }
   ],
   "source": [
    "l1[5]"
   ]
  },
  {
   "cell_type": "markdown",
   "id": "bdca4566-cb61-46b5-bd14-f6e70687c9dd",
   "metadata": {},
   "source": [
    "## sets\n",
    "   1. only unique data is stored in sets\n",
    "   2. u can not perform index and slicing in sets\n",
    "   3. sets are mutable"
   ]
  },
  {
   "cell_type": "code",
   "execution_count": 161,
   "id": "f8b869e0-32ca-4a0b-8258-b85375134f18",
   "metadata": {},
   "outputs": [],
   "source": [
    "ids={12,45,56,78,98,12}"
   ]
  },
  {
   "cell_type": "code",
   "execution_count": 162,
   "id": "35279d2e-8ebc-42bf-a968-c69390dced9b",
   "metadata": {},
   "outputs": [
    {
     "data": {
      "text/plain": [
       "{12, 45, 56, 78, 98}"
      ]
     },
     "execution_count": 162,
     "metadata": {},
     "output_type": "execute_result"
    }
   ],
   "source": [
    "ids"
   ]
  },
  {
   "cell_type": "code",
   "execution_count": 163,
   "id": "3a453758-64d4-43d8-b90b-3d4e3ce05871",
   "metadata": {},
   "outputs": [],
   "source": [
    "ids.add(76)"
   ]
  },
  {
   "cell_type": "code",
   "execution_count": 164,
   "id": "de5e8582-c3d9-4934-a73b-152cb1b5c015",
   "metadata": {},
   "outputs": [
    {
     "data": {
      "text/plain": [
       "{12, 45, 56, 76, 78, 98}"
      ]
     },
     "execution_count": 164,
     "metadata": {},
     "output_type": "execute_result"
    }
   ],
   "source": [
    "ids"
   ]
  },
  {
   "cell_type": "code",
   "execution_count": 165,
   "id": "411b89e0-b981-45b6-bc87-b6ede4b3bf26",
   "metadata": {},
   "outputs": [],
   "source": [
    "ids.add(12)"
   ]
  },
  {
   "cell_type": "code",
   "execution_count": 166,
   "id": "37830953-1e0d-421d-b180-0cfdcc6fa462",
   "metadata": {},
   "outputs": [
    {
     "data": {
      "text/plain": [
       "{12, 45, 56, 76, 78, 98}"
      ]
     },
     "execution_count": 166,
     "metadata": {},
     "output_type": "execute_result"
    }
   ],
   "source": [
    "ids"
   ]
  },
  {
   "cell_type": "code",
   "execution_count": 167,
   "id": "8288fe44-6b66-46d9-b69d-49835c1cd6cb",
   "metadata": {},
   "outputs": [],
   "source": [
    " pre_ids={101,102,103,104,105}\n",
    " prim_ids={101,103,106,107,108,109}"
   ]
  },
  {
   "cell_type": "code",
   "execution_count": 168,
   "id": "619bce41-632f-46b1-896a-ad129ca9e589",
   "metadata": {},
   "outputs": [
    {
     "data": {
      "text/plain": [
       "{101, 102, 103, 104, 105}"
      ]
     },
     "execution_count": 168,
     "metadata": {},
     "output_type": "execute_result"
    }
   ],
   "source": [
    "pre_ids"
   ]
  },
  {
   "cell_type": "code",
   "execution_count": 169,
   "id": "c7e84180-112a-4816-8415-05d800880d7b",
   "metadata": {},
   "outputs": [
    {
     "data": {
      "text/plain": [
       "{101, 103, 106, 107, 108, 109}"
      ]
     },
     "execution_count": 169,
     "metadata": {},
     "output_type": "execute_result"
    }
   ],
   "source": [
    "prim_ids"
   ]
  },
  {
   "cell_type": "code",
   "execution_count": 170,
   "id": "c5a6db9c-30b4-42a1-a6e8-77f96e62d13d",
   "metadata": {},
   "outputs": [
    {
     "data": {
      "text/plain": [
       "{101, 103}"
      ]
     },
     "execution_count": 170,
     "metadata": {},
     "output_type": "execute_result"
    }
   ],
   "source": [
    "pre_ids.intersection(prim_ids)"
   ]
  },
  {
   "cell_type": "code",
   "execution_count": 171,
   "id": "51097fc7-e3ec-4d7f-8d44-69dd7942dc6d",
   "metadata": {},
   "outputs": [
    {
     "data": {
      "text/plain": [
       "{101, 102, 103, 104, 105, 106, 107, 108, 109}"
      ]
     },
     "execution_count": 171,
     "metadata": {},
     "output_type": "execute_result"
    }
   ],
   "source": [
    "pre_ids.union(prim_ids)"
   ]
  },
  {
   "cell_type": "code",
   "execution_count": 172,
   "id": "ca4eeb29-b515-47dd-b50c-273f99450363",
   "metadata": {},
   "outputs": [
    {
     "data": {
      "text/plain": [
       "{102, 104, 105}"
      ]
     },
     "execution_count": 172,
     "metadata": {},
     "output_type": "execute_result"
    }
   ],
   "source": [
    "pre_ids.difference(prim_ids)"
   ]
  },
  {
   "cell_type": "code",
   "execution_count": 173,
   "id": "1c5d972c-7e39-4e89-8b86-7673d86ad0a2",
   "metadata": {},
   "outputs": [
    {
     "data": {
      "text/plain": [
       "{106, 107, 108, 109}"
      ]
     },
     "execution_count": 173,
     "metadata": {},
     "output_type": "execute_result"
    }
   ],
   "source": [
    "prim_ids.difference(pre_ids)"
   ]
  },
  {
   "cell_type": "markdown",
   "id": "5247ca4e-ca55-486d-82e3-5160f6066098",
   "metadata": {},
   "source": [
    "## conditional operators"
   ]
  },
  {
   "cell_type": "code",
   "execution_count": 175,
   "id": "f10ca267-6196-47a9-a56f-87c9476c14f2",
   "metadata": {},
   "outputs": [],
   "source": [
    "a=12"
   ]
  },
  {
   "cell_type": "code",
   "execution_count": 176,
   "id": "199fd925-2d90-4989-a968-f68819e2d581",
   "metadata": {},
   "outputs": [],
   "source": [
    "b=20"
   ]
  },
  {
   "cell_type": "code",
   "execution_count": 177,
   "id": "364bb49e-b6ad-4ac9-809c-e9f5c7d69436",
   "metadata": {},
   "outputs": [
    {
     "data": {
      "text/plain": [
       "False"
      ]
     },
     "execution_count": 177,
     "metadata": {},
     "output_type": "execute_result"
    }
   ],
   "source": [
    "a==b"
   ]
  },
  {
   "cell_type": "code",
   "execution_count": 178,
   "id": "31cb6020-d8fe-4530-967e-454433eed7c8",
   "metadata": {},
   "outputs": [
    {
     "data": {
      "text/plain": [
       "int"
      ]
     },
     "execution_count": 178,
     "metadata": {},
     "output_type": "execute_result"
    }
   ],
   "source": [
    "type(a)"
   ]
  },
  {
   "cell_type": "code",
   "execution_count": 179,
   "id": "1b89ce28-70dd-4f15-b624-7cd5c1fe0d38",
   "metadata": {},
   "outputs": [
    {
     "data": {
      "text/plain": [
       "False"
      ]
     },
     "execution_count": 179,
     "metadata": {},
     "output_type": "execute_result"
    }
   ],
   "source": [
    "a>b"
   ]
  },
  {
   "cell_type": "code",
   "execution_count": 180,
   "id": "38e69983-3955-4af7-8883-2d8d34d08578",
   "metadata": {},
   "outputs": [
    {
     "data": {
      "text/plain": [
       "True"
      ]
     },
     "execution_count": 180,
     "metadata": {},
     "output_type": "execute_result"
    }
   ],
   "source": [
    "b>a"
   ]
  },
  {
   "cell_type": "code",
   "execution_count": 181,
   "id": "5ea5a24b-d3a9-4661-ae00-5c9992321476",
   "metadata": {},
   "outputs": [],
   "source": [
    "c=\"rashmi\""
   ]
  },
  {
   "cell_type": "code",
   "execution_count": 182,
   "id": "d6ffa7c5-943c-46ae-9e87-8829371bd764",
   "metadata": {},
   "outputs": [
    {
     "data": {
      "text/plain": [
       "False"
      ]
     },
     "execution_count": 182,
     "metadata": {},
     "output_type": "execute_result"
    }
   ],
   "source": [
    "a==\"pune\""
   ]
  },
  {
   "cell_type": "code",
   "execution_count": 183,
   "id": "83150cbd-8e27-47f4-a250-6626b69fcd35",
   "metadata": {},
   "outputs": [],
   "source": [
    "A=\"Pune\""
   ]
  },
  {
   "cell_type": "code",
   "execution_count": 184,
   "id": "876df751-36ac-4e58-bcc2-e40ecbff4830",
   "metadata": {},
   "outputs": [
    {
     "data": {
      "text/plain": [
       "True"
      ]
     },
     "execution_count": 184,
     "metadata": {},
     "output_type": "execute_result"
    }
   ],
   "source": [
    "(A==\"Pune\") & (c==\"rashmi\") or b==43"
   ]
  },
  {
   "cell_type": "markdown",
   "id": "5ff0c4bb-bb92-484b-86a7-1077eda6846d",
   "metadata": {},
   "source": [
    "## Input()"
   ]
  },
  {
   "cell_type": "code",
   "execution_count": 186,
   "id": "35a39710-0ca5-4132-b4de-e8df369ec69a",
   "metadata": {},
   "outputs": [
    {
     "name": "stdin",
     "output_type": "stream",
     "text": [
      " rashmi\n"
     ]
    },
    {
     "data": {
      "text/plain": [
       "'rashmi'"
      ]
     },
     "execution_count": 186,
     "metadata": {},
     "output_type": "execute_result"
    }
   ],
   "source": [
    "input()"
   ]
  },
  {
   "cell_type": "code",
   "execution_count": 187,
   "id": "0304d8f1-bfcd-46d9-8030-31aba1cef69f",
   "metadata": {},
   "outputs": [
    {
     "name": "stdin",
     "output_type": "stream",
     "text": [
      " rashmi\n"
     ]
    },
    {
     "name": "stdout",
     "output_type": "stream",
     "text": [
      "rashmi\n"
     ]
    }
   ],
   "source": [
    "name=input()\n",
    "print(name)"
   ]
  },
  {
   "cell_type": "code",
   "execution_count": 188,
   "id": "72704b5b-b230-47e7-8a38-e32565726a3b",
   "metadata": {},
   "outputs": [
    {
     "name": "stdout",
     "output_type": "stream",
     "text": [
      "rashmi\n"
     ]
    }
   ],
   "source": [
    "print(name)"
   ]
  },
  {
   "cell_type": "code",
   "execution_count": 189,
   "id": "4d865afb-1fb0-41bf-8008-796fc4db45b2",
   "metadata": {},
   "outputs": [
    {
     "name": "stdin",
     "output_type": "stream",
     "text": [
      "enter num1 12\n",
      "enter num2 45\n"
     ]
    },
    {
     "name": "stdout",
     "output_type": "stream",
     "text": [
      "addition of 12 and 45 is 57\n"
     ]
    }
   ],
   "source": [
    "num1=int(input(\"enter num1\"))\n",
    "num2=int(input(\"enter num2\"))\n",
    "add_op=num1+num2\n",
    "print(f\"addition of {num1} and {num2} is {add_op}\")"
   ]
  },
  {
   "cell_type": "code",
   "execution_count": 190,
   "id": "332da136-257d-4f4e-8cf0-efb78d2b891a",
   "metadata": {},
   "outputs": [
    {
     "name": "stdin",
     "output_type": "stream",
     "text": [
      "enter a number 60\n",
      "enter another number 70\n"
     ]
    },
    {
     "name": "stdout",
     "output_type": "stream",
     "text": [
      "addition of numbers is 130\n"
     ]
    }
   ],
   "source": [
    "num_1=int(input(\"enter a number\"))\n",
    "num_2=int(input(\"enter another number\"))\n",
    "if (num_1>50) and (num_2>60):\n",
    "    add_num=num_1+num_2\n",
    "    print(f\"addition of numbers is {add_num}\")\n",
    "else:\n",
    "    sub_num=num_1-num_2\n",
    "    print(f\"subtraction of numbers is {sub_num}\")"
   ]
  },
  {
   "cell_type": "code",
   "execution_count": 191,
   "id": "845b31d3-4d96-40a0-a883-04fc5879464a",
   "metadata": {},
   "outputs": [
    {
     "name": "stdin",
     "output_type": "stream",
     "text": [
      "enter a number 23\n",
      "enter another number 12\n"
     ]
    },
    {
     "name": "stdout",
     "output_type": "stream",
     "text": [
      "subtraction of numbers is 11\n"
     ]
    }
   ],
   "source": [
    "num_1=int(input(\"enter a number\"))\n",
    "num_2=int(input(\"enter another number\"))\n",
    "if (num_1>50) and (num_2>60):\n",
    "    add_num=num_1+num_2\n",
    "    print(f\"addition of numbers is {add_num}\")\n",
    "else:\n",
    "    sub_num=num_1-num_2\n",
    "    print(f\"subtraction of numbers is {sub_num}\")"
   ]
  },
  {
   "cell_type": "code",
   "execution_count": 192,
   "id": "21804b3b-1780-4627-a161-1dd2562ead6a",
   "metadata": {},
   "outputs": [
    {
     "name": "stdin",
     "output_type": "stream",
     "text": [
      " 12\n",
      " 13\n"
     ]
    }
   ],
   "source": [
    "a=input()\n",
    "b=input()\n"
   ]
  },
  {
   "cell_type": "markdown",
   "id": "b4f3bbc0-aa36-4d19-acd7-43b0e7cf2b76",
   "metadata": {},
   "source": [
    "### check_num=int(input(\"enter a number\"))\n",
    "if (check_num%2==0):\n",
    "    print(\"the number is even\")\n",
    "else:\n",
    "    print(\"the number is odd\")"
   ]
  },
  {
   "cell_type": "markdown",
   "id": "843c268b-e4c6-41b4-a312-3a6c30016b10",
   "metadata": {},
   "source": [
    "## if elif else"
   ]
  },
  {
   "cell_type": "code",
   "execution_count": 195,
   "id": "c839d50b-1750-4927-a10b-0be703336ed3",
   "metadata": {},
   "outputs": [],
   "source": [
    "num1=45"
   ]
  },
  {
   "cell_type": "code",
   "execution_count": 196,
   "id": "2fff479c-20f8-4a3a-9956-9090f09fa15a",
   "metadata": {},
   "outputs": [],
   "source": [
    "num2=24"
   ]
  },
  {
   "cell_type": "code",
   "execution_count": 197,
   "id": "17cecbad-96c2-4d9f-b5fe-f4229e376bf0",
   "metadata": {},
   "outputs": [
    {
     "name": "stdout",
     "output_type": "stream",
     "text": [
      "the {num1} is divisible by 3\n"
     ]
    }
   ],
   "source": [
    "if (num1%2==0):\n",
    "    print(\"the {num1} is divisible by 2\")\n",
    "elif (num1%3==0):\n",
    "    print(\"the {num1} is divisible by 3\")\n",
    "\n",
    "else:\n",
    "    print(\"the {num1} is neither divisible by 2 nor by 3\")\n",
    "    \n",
    "    "
   ]
  },
  {
   "cell_type": "markdown",
   "id": "c4b71bfc-4f35-42c9-934c-2a35b65222cb",
   "metadata": {},
   "source": [
    "# num3=int(input())\n",
    "if (num3%2==0) & (num3%3==0):\n",
    "    print(\"the number is divisible by both 2 &3 \") \n",
    "\n",
    "elif (num3%3==0):\n",
    "    print(\"the num is divisible by 3\")\n",
    "\n",
    "elif (num3%2==0): \n",
    "       print(\"the {num3} is divisible by 2\")\n",
    "\n",
    "else:\n",
    "    print(\"the number is not divisible by anyone\")"
   ]
  },
  {
   "cell_type": "markdown",
   "id": "7840992a-add8-49b6-b53d-a949c008ce12",
   "metadata": {},
   "source": [
    "## syntax:\n",
    "     range(start_index,stop_index,step_size)\n",
    "      internally stop_index-1 will be the last index \n",
    "      by default: start_index=0,step_size=1\n",
    "\n",
    "      range(x) : it will consider x as stop_index\n",
    "      range(x,y) : it will consider x as start_index and y as stop_index\n"
   ]
  },
  {
   "cell_type": "code",
   "execution_count": 200,
   "id": "0a19ee9a-fc50-4a7a-83d1-6d9d9a22348b",
   "metadata": {},
   "outputs": [
    {
     "data": {
      "text/plain": [
       "range(0, 15)"
      ]
     },
     "execution_count": 200,
     "metadata": {},
     "output_type": "execute_result"
    }
   ],
   "source": [
    "range(0,15,1)"
   ]
  },
  {
   "cell_type": "code",
   "execution_count": 201,
   "id": "bfbd1bca-37fc-4dfe-ae50-45e57c89ecc8",
   "metadata": {},
   "outputs": [
    {
     "data": {
      "text/plain": [
       "[0, 1, 2, 3, 4, 5, 6, 7, 8, 9, 10, 11, 12, 13, 14]"
      ]
     },
     "execution_count": 201,
     "metadata": {},
     "output_type": "execute_result"
    }
   ],
   "source": [
    "list(range(0,15,1))"
   ]
  },
  {
   "cell_type": "code",
   "execution_count": 202,
   "id": "d2e374a8-0d45-4f1c-9602-3450d9358128",
   "metadata": {},
   "outputs": [
    {
     "data": {
      "text/plain": [
       "[1, 2, 3, 4, 5, 6, 7, 8, 9, 10, 11, 12, 13, 14]"
      ]
     },
     "execution_count": 202,
     "metadata": {},
     "output_type": "execute_result"
    }
   ],
   "source": [
    "list(range(1,15,1))"
   ]
  },
  {
   "cell_type": "code",
   "execution_count": 203,
   "id": "d113fd54-f6fe-4fa3-8963-69682859d5e3",
   "metadata": {},
   "outputs": [
    {
     "data": {
      "text/plain": [
       "[0, 1, 2, 3, 4, 5, 6, 7, 8, 9, 10, 11, 12, 13, 14]"
      ]
     },
     "execution_count": 203,
     "metadata": {},
     "output_type": "execute_result"
    }
   ],
   "source": [
    "list(range(15))"
   ]
  },
  {
   "cell_type": "code",
   "execution_count": 204,
   "id": "9d90d986-8f64-4052-b53f-ee42c8dc98c8",
   "metadata": {},
   "outputs": [
    {
     "data": {
      "text/plain": [
       "[2, 4, 6, 8, 10, 12]"
      ]
     },
     "execution_count": 204,
     "metadata": {},
     "output_type": "execute_result"
    }
   ],
   "source": [
    "list(range(2,14,2))"
   ]
  },
  {
   "cell_type": "code",
   "execution_count": 205,
   "id": "9dd86900-3c39-470e-baaa-62421202712c",
   "metadata": {},
   "outputs": [
    {
     "data": {
      "text/plain": [
       "[0, 1, 2, 3, 4, 5, 6, 7, 8, 9, 10, 11, 12, 13]"
      ]
     },
     "execution_count": 205,
     "metadata": {},
     "output_type": "execute_result"
    }
   ],
   "source": [
    "list(range(0,14))"
   ]
  },
  {
   "cell_type": "code",
   "execution_count": 206,
   "id": "d554a396-8aa9-4665-8432-7455dac13ff3",
   "metadata": {},
   "outputs": [
    {
     "data": {
      "text/plain": [
       "[0, 1, 2, 3, 4, 5, 6, 7, 8, 9, 10, 11, 12, 13, 14]"
      ]
     },
     "execution_count": 206,
     "metadata": {},
     "output_type": "execute_result"
    }
   ],
   "source": [
    "list(range(15))"
   ]
  },
  {
   "cell_type": "markdown",
   "id": "ad9362b9-f498-4e3f-80c2-b13bf8dc6e83",
   "metadata": {},
   "source": [
    "## for loop\n",
    "     for iterable_count in range(stop_index):\n",
    "     print(iterable_count)"
   ]
  },
  {
   "cell_type": "code",
   "execution_count": 208,
   "id": "1a7948d9-0b23-45d4-ba94-ac367e808e9d",
   "metadata": {},
   "outputs": [
    {
     "name": "stdout",
     "output_type": "stream",
     "text": [
      "hello world\n",
      "hello world\n",
      "hello world\n"
     ]
    }
   ],
   "source": [
    "print(\"hello world\")\n",
    "print(\"hello world\")\n",
    "print(\"hello world\")\n"
   ]
  },
  {
   "cell_type": "code",
   "execution_count": 209,
   "id": "84f40c41-a984-4a49-bd55-2b9d89b26bf0",
   "metadata": {},
   "outputs": [
    {
     "name": "stdout",
     "output_type": "stream",
     "text": [
      "[1, 2, 3, 4, 5, 6, 7, 8, 9, 10, 11, 12, 13, 14, 15, 16, 17, 18, 19, 20, 21, 22, 23, 24, 25, 26, 27, 28, 29, 30, 31, 32, 33, 34, 35, 36, 37, 38, 39, 40, 41, 42, 43, 44, 45, 46, 47, 48, 49]\n"
     ]
    }
   ],
   "source": [
    "print(list(range(1,50)))"
   ]
  },
  {
   "cell_type": "code",
   "execution_count": 210,
   "id": "65af0b58-ad95-4a64-9778-8ef6273672c7",
   "metadata": {},
   "outputs": [
    {
     "name": "stdout",
     "output_type": "stream",
     "text": [
      "0\n",
      "1\n",
      "2\n",
      "3\n",
      "4\n",
      "5\n",
      "6\n",
      "7\n",
      "8\n",
      "9\n",
      "10\n",
      "11\n",
      "12\n",
      "13\n",
      "14\n",
      "15\n",
      "16\n",
      "17\n",
      "18\n",
      "19\n",
      "20\n",
      "21\n",
      "22\n",
      "23\n",
      "24\n",
      "25\n",
      "26\n",
      "27\n",
      "28\n",
      "29\n",
      "30\n",
      "31\n",
      "32\n",
      "33\n",
      "34\n",
      "35\n",
      "36\n",
      "37\n",
      "38\n",
      "39\n",
      "40\n",
      "41\n",
      "42\n",
      "43\n",
      "44\n",
      "45\n",
      "46\n",
      "47\n",
      "48\n",
      "49\n"
     ]
    }
   ],
   "source": [
    "for iterable_count in range(50):\n",
    "    print(iterable_count)\n",
    "                           "
   ]
  },
  {
   "cell_type": "code",
   "execution_count": 211,
   "id": "661d5b09-620e-48fc-85bb-40e2d2b3f29a",
   "metadata": {},
   "outputs": [
    {
     "name": "stdout",
     "output_type": "stream",
     "text": [
      "1 rashmi\n",
      "3 rashmi\n",
      "5 rashmi\n",
      "7 rashmi\n",
      "9 rashmi\n"
     ]
    }
   ],
   "source": [
    "for i in range(1,10,2):\n",
    "    print(f\"{i} rashmi\")"
   ]
  },
  {
   "cell_type": "code",
   "execution_count": 212,
   "id": "d883dbd9-e437-4d50-90ed-7a46dd3f727a",
   "metadata": {},
   "outputs": [],
   "source": [
    "names=[\"raman\",\"thaman\",\"baman\",\"suman\"]"
   ]
  },
  {
   "cell_type": "code",
   "execution_count": 213,
   "id": "9c140394-7990-427b-adce-713ecf6db5a4",
   "metadata": {},
   "outputs": [
    {
     "data": {
      "text/plain": [
       "['raman', 'thaman', 'baman', 'suman']"
      ]
     },
     "execution_count": 213,
     "metadata": {},
     "output_type": "execute_result"
    }
   ],
   "source": [
    "names"
   ]
  },
  {
   "cell_type": "code",
   "execution_count": 214,
   "id": "7b17520b-3032-4fe7-af36-97c436f6e2fe",
   "metadata": {},
   "outputs": [
    {
     "name": "stdout",
     "output_type": "stream",
     "text": [
      "raman\n",
      "thaman\n",
      "baman\n",
      "suman\n"
     ]
    }
   ],
   "source": [
    "for i in names:\n",
    "    print (i)"
   ]
  },
  {
   "cell_type": "code",
   "execution_count": 215,
   "id": "27929bd4-f2cb-4b76-a196-65d232d9aede",
   "metadata": {},
   "outputs": [],
   "source": [
    "prices=[2,4,6,8]"
   ]
  },
  {
   "cell_type": "code",
   "execution_count": 216,
   "id": "634cdab1-cf5b-4078-a63a-ed4272c310a6",
   "metadata": {},
   "outputs": [
    {
     "name": "stdout",
     "output_type": "stream",
     "text": [
      "4\n",
      "8\n",
      "12\n",
      "16\n"
     ]
    }
   ],
   "source": [
    "for i in prices:\n",
    "    print(i*2)"
   ]
  },
  {
   "cell_type": "code",
   "execution_count": 217,
   "id": "ccf9cd20-d2ce-48c5-99c3-e9d09e3a86b3",
   "metadata": {},
   "outputs": [
    {
     "data": {
      "text/plain": [
       "list"
      ]
     },
     "execution_count": 217,
     "metadata": {},
     "output_type": "execute_result"
    }
   ],
   "source": [
    "price_usd=[]\n",
    "type(price_usd)"
   ]
  },
  {
   "cell_type": "code",
   "execution_count": 218,
   "id": "8957ceaf-4fb3-4530-8eea-94483e3fd0aa",
   "metadata": {},
   "outputs": [
    {
     "name": "stdout",
     "output_type": "stream",
     "text": [
      "price : [2, 4, 6, 8]\n",
      "price_usd : [20]\n",
      "price : [2, 4, 6, 8]\n",
      "price_usd : [20, 40]\n",
      "price : [2, 4, 6, 8]\n",
      "price_usd : [20, 40, 60]\n",
      "price : [2, 4, 6, 8]\n",
      "price_usd : [20, 40, 60, 80]\n"
     ]
    }
   ],
   "source": [
    "for i in prices:\n",
    "    j=i*10\n",
    "    price_usd.append(j)\n",
    "    print(f\"price : {prices}\")\n",
    "    print(f\"price_usd : {price_usd}\")"
   ]
  },
  {
   "cell_type": "code",
   "execution_count": 219,
   "id": "c6e59d13-901f-46b5-823e-137cfe09c0f6",
   "metadata": {},
   "outputs": [
    {
     "name": "stdout",
     "output_type": "stream",
     "text": [
      "price : [2, 4, 6, 8]\n",
      "price_usd : [20, 40, 60, 80, 20, 40, 60, 80]\n"
     ]
    }
   ],
   "source": [
    "for i in prices:\n",
    "    j=i*10\n",
    "    price_usd.append(j)\n",
    "print(f\"price : {prices}\")\n",
    "print(f\"price_usd : {price_usd}\")"
   ]
  },
  {
   "cell_type": "code",
   "execution_count": 220,
   "id": "21e68501-9841-4c6a-a40d-f937644326ac",
   "metadata": {},
   "outputs": [
    {
     "name": "stdout",
     "output_type": "stream",
     "text": [
      "price : [2, 4, 6, 8]\n",
      "price_usd : [20, 40, 60, 80]\n"
     ]
    }
   ],
   "source": [
    "price_usd=[]\n",
    "for i in prices:\n",
    "    j=i*10\n",
    "    price_usd.append(j)\n",
    "print(f\"price : {prices}\")\n",
    "print(f\"price_usd : {price_usd}\")"
   ]
  },
  {
   "cell_type": "markdown",
   "id": "cef96443-5401-46db-95b0-12f6fd17616a",
   "metadata": {},
   "source": [
    "## even and odd"
   ]
  },
  {
   "cell_type": "code",
   "execution_count": 222,
   "id": "d58df2e5-3309-4e5f-a28f-c2d68cdb432f",
   "metadata": {},
   "outputs": [
    {
     "name": "stdout",
     "output_type": "stream",
     "text": [
      "[0, 2, 4, 6, 8, 10, 12, 14, 16, 18]\n"
     ]
    }
   ],
   "source": [
    "even=[]\n",
    "odd=[]\n",
    "for i in range(20):\n",
    "    if i%2==0:\n",
    "        even.append(i)\n",
    "    else:\n",
    "        odd.append(i)\n",
    "\n",
    "print(even)\n",
    "\n",
    "        \n"
   ]
  },
  {
   "cell_type": "code",
   "execution_count": 223,
   "id": "3173e973-5fb8-4271-87d5-889433e7ae8b",
   "metadata": {},
   "outputs": [
    {
     "name": "stdout",
     "output_type": "stream",
     "text": [
      "[1, 3, 5, 7, 9, 11, 13, 15, 17, 19]\n"
     ]
    }
   ],
   "source": [
    "print(odd)"
   ]
  },
  {
   "cell_type": "code",
   "execution_count": 224,
   "id": "89676604-a61d-456a-bb1e-3a070e4bd0ae",
   "metadata": {},
   "outputs": [
    {
     "name": "stdout",
     "output_type": "stream",
     "text": [
      "[2, 4, 6, 8, 10, 12, 14, 16, 18]\n"
     ]
    }
   ],
   "source": [
    "even2=[]\n",
    "for i in range(2,20,2):\n",
    "    even2.append(i)\n",
    "\n",
    "print(even2)"
   ]
  },
  {
   "cell_type": "code",
   "execution_count": 225,
   "id": "caee57c7-a266-4231-9fe1-e84cb81abf09",
   "metadata": {},
   "outputs": [
    {
     "name": "stdout",
     "output_type": "stream",
     "text": [
      "[1, 3, 5, 7, 9, 11, 13, 15, 17, 19]\n"
     ]
    }
   ],
   "source": [
    "odd2=[]\n",
    "for i in range(1,20,2):\n",
    "    odd2.append(i)\n",
    "\n",
    "print(odd2)\n",
    "    "
   ]
  },
  {
   "cell_type": "markdown",
   "id": "32423e69-eddf-4032-9ca9-efc898bcb64f",
   "metadata": {},
   "source": [
    "## while loop"
   ]
  },
  {
   "cell_type": "code",
   "execution_count": 227,
   "id": "fb3045e8-2979-45bc-95ab-1a4e1b4db73c",
   "metadata": {},
   "outputs": [],
   "source": [
    "l1=[12,13,14,115]"
   ]
  },
  {
   "cell_type": "code",
   "execution_count": 228,
   "id": "d92723e3-e679-4a55-a30e-62134de36636",
   "metadata": {},
   "outputs": [
    {
     "name": "stdout",
     "output_type": "stream",
     "text": [
      "12\n",
      "13\n",
      "14\n",
      "115\n"
     ]
    }
   ],
   "source": [
    "i=0\n",
    "while i<len(l1):\n",
    "    print(l1[i])\n",
    "    i=i+1\n"
   ]
  },
  {
   "cell_type": "code",
   "execution_count": 229,
   "id": "9de6fd67-e5b8-4216-9a43-3aee1620e98c",
   "metadata": {},
   "outputs": [
    {
     "name": "stdout",
     "output_type": "stream",
     "text": [
      "2\n",
      "4\n",
      "6\n",
      "8\n"
     ]
    }
   ],
   "source": [
    "l2=[2,4,6,8]\n",
    "i=0\n",
    "while i<len(l2):\n",
    "    print(l2[i])\n",
    "    i=i+1"
   ]
  },
  {
   "cell_type": "markdown",
   "id": "f28fba7b-3a7d-4dd0-8433-1996735340f6",
   "metadata": {},
   "source": [
    "## Write a program which has for loop and gives factorial of a number\n",
    "    n! = n*n-1*n-2*n-3......*1\n",
    "    4! = 4*3*2*1 = 24\n",
    "    5! = 5*4*3*2*1 = 120"
   ]
  },
  {
   "cell_type": "code",
   "execution_count": 231,
   "id": "9f5c11a7-d5f0-45cf-88b7-195c667e7306",
   "metadata": {},
   "outputs": [
    {
     "name": "stdin",
     "output_type": "stream",
     "text": [
      "enter a number i'l give u factorial of num 4\n"
     ]
    },
    {
     "name": "stdout",
     "output_type": "stream",
     "text": [
      "24\n"
     ]
    }
   ],
   "source": [
    "num=int(input(\"enter a number i'l give u factorial of num\"))\n",
    "b=1\n",
    "for i in range(1,num+1):\n",
    "    b=b*i\n",
    "print(b)"
   ]
  },
  {
   "cell_type": "code",
   "execution_count": 232,
   "id": "0a2f7d36-e143-4873-a4d3-585fd144ca7e",
   "metadata": {},
   "outputs": [
    {
     "name": "stdin",
     "output_type": "stream",
     "text": [
      "enter a number 4\n"
     ]
    },
    {
     "name": "stdout",
     "output_type": "stream",
     "text": [
      "24\n"
     ]
    }
   ],
   "source": [
    "num1=int(input(\"enter a number\"))\n",
    "b=1\n",
    "i=1\n",
    "while i<(num1+1):\n",
    "    b=b*i\n",
    "    i=i+1\n",
    "\n",
    "print(b)\n",
    "    "
   ]
  },
  {
   "cell_type": "code",
   "execution_count": 233,
   "id": "69b370e7-f572-4570-a70c-a2611e529937",
   "metadata": {},
   "outputs": [
    {
     "name": "stdout",
     "output_type": "stream",
     "text": [
      "[1, 9, 25, 49, 81]\n"
     ]
    }
   ],
   "source": [
    "squ_num=[]\n",
    "for i in range(1,10,2):\n",
    "    a=i**2\n",
    "    squ_num.append(a)\n",
    "\n",
    "print(squ_num)\n",
    "\n"
   ]
  },
  {
   "cell_type": "code",
   "execution_count": 234,
   "id": "0bc8d1b9-1b66-4c65-8a69-39f2f96e44c4",
   "metadata": {},
   "outputs": [
    {
     "name": "stdout",
     "output_type": "stream",
     "text": [
      "[4, 9, 16, 25, 36, 49]\n"
     ]
    }
   ],
   "source": [
    "num4=[2,3,4,5,6,7]\n",
    "squ_num1=[]\n",
    "i=0\n",
    "while i<len(num4):\n",
    "    b=num4[i]**2\n",
    "    squ_num1.append(b)\n",
    "    i=i+1\n",
    "\n",
    "print(squ_num1)"
   ]
  },
  {
   "cell_type": "code",
   "execution_count": 235,
   "id": "c6e9c376-ef48-4f14-8908-dbbe21c1d6e9",
   "metadata": {},
   "outputs": [
    {
     "data": {
      "text/plain": [
       "[12, 13, 14, 115]"
      ]
     },
     "execution_count": 235,
     "metadata": {},
     "output_type": "execute_result"
    }
   ],
   "source": [
    "l1"
   ]
  },
  {
   "cell_type": "code",
   "execution_count": 236,
   "id": "c707c346-0467-4714-8561-df0f0f628d95",
   "metadata": {},
   "outputs": [
    {
     "name": "stdout",
     "output_type": "stream",
     "text": [
      "(0, 12)\n",
      "(1, 13)\n",
      "(2, 14)\n",
      "(3, 115)\n"
     ]
    }
   ],
   "source": [
    "for i in enumerate(l1):\n",
    "    print(i)"
   ]
  },
  {
   "cell_type": "code",
   "execution_count": 237,
   "id": "18f3da04-480b-4936-a893-fe4193555751",
   "metadata": {},
   "outputs": [
    {
     "data": {
      "text/plain": [
       "[(0, 12), (1, 13), (2, 14), (3, 115)]"
      ]
     },
     "execution_count": 237,
     "metadata": {},
     "output_type": "execute_result"
    }
   ],
   "source": [
    "list(enumerate(l1))"
   ]
  },
  {
   "cell_type": "code",
   "execution_count": 238,
   "id": "549ef963-42f7-4950-b0af-bad17d22d91c",
   "metadata": {},
   "outputs": [
    {
     "name": "stdout",
     "output_type": "stream",
     "text": [
      "(0, 12)\n",
      "(1, 13)\n",
      "(2, 14)\n",
      "(3, 115)\n"
     ]
    }
   ],
   "source": [
    "for i in enumerate(l1):\n",
    "    print(i)"
   ]
  },
  {
   "cell_type": "code",
   "execution_count": 239,
   "id": "aa59cec0-4bce-4503-b1a5-c26646de8cce",
   "metadata": {},
   "outputs": [
    {
     "data": {
      "text/plain": [
       "[25000, 65, 26, 'raman@gmail.com', 'raman', 'varman']"
      ]
     },
     "execution_count": 239,
     "metadata": {},
     "output_type": "execute_result"
    }
   ],
   "source": [
    "emp_data"
   ]
  },
  {
   "cell_type": "code",
   "execution_count": 240,
   "id": "6d3338e6-41e7-4d0d-8acf-cc3af7896668",
   "metadata": {},
   "outputs": [
    {
     "name": "stdout",
     "output_type": "stream",
     "text": [
      "25000\n",
      "65\n",
      "26\n",
      "raman@gmail.com\n",
      "raman\n",
      "varman\n"
     ]
    }
   ],
   "source": [
    "for i in emp_data:\n",
    "    print(i)"
   ]
  },
  {
   "cell_type": "code",
   "execution_count": 241,
   "id": "017a6fb7-32e1-4ae0-bb7d-243156f3f98a",
   "metadata": {},
   "outputs": [],
   "source": [
    "emp_data_new=[[101,\"raman\"],[102,\"taman\"]]"
   ]
  },
  {
   "cell_type": "code",
   "execution_count": 242,
   "id": "62e5c073-c7bd-4cb5-a667-4a0ce3fbf92e",
   "metadata": {},
   "outputs": [
    {
     "name": "stdout",
     "output_type": "stream",
     "text": [
      "employee id of raman is 101\n",
      "employee id of taman is 102\n"
     ]
    }
   ],
   "source": [
    "for i,j in emp_data_new:\n",
    "    print(f\"employee id of {j} is {i}\")"
   ]
  },
  {
   "cell_type": "code",
   "execution_count": 243,
   "id": "157f9faf-4112-4292-8635-85013a23a27f",
   "metadata": {},
   "outputs": [],
   "source": [
    "## print even numbers"
   ]
  },
  {
   "cell_type": "code",
   "execution_count": 244,
   "id": "13bcfbef-1182-499f-9efc-21004ee9f26f",
   "metadata": {},
   "outputs": [],
   "source": [
    "even=[12,13,15,14,16,11]\n",
    "    "
   ]
  },
  {
   "cell_type": "code",
   "execution_count": 245,
   "id": "9681a17a-f5f1-4fd6-8dc0-46dff994de91",
   "metadata": {},
   "outputs": [],
   "source": [
    "## even and odd"
   ]
  },
  {
   "cell_type": "code",
   "execution_count": 246,
   "id": "a1cd22ea-f8b0-4b10-a50c-c1d2f13f313a",
   "metadata": {},
   "outputs": [
    {
     "name": "stdout",
     "output_type": "stream",
     "text": [
      "[30, 32, 34, 36, 38, 40, 42, 44, 46, 48, 50, 52, 54, 56, 58]\n"
     ]
    }
   ],
   "source": [
    "even1=[]\n",
    "odd1=[]\n",
    "for i in range(30,60):\n",
    "    if (i%2==0):\n",
    "        even1.append(i)\n",
    "    else:\n",
    "        odd1.append(i)\n",
    "\n",
    "print(even1)"
   ]
  },
  {
   "cell_type": "code",
   "execution_count": 247,
   "id": "5c389b34-ae69-4320-a6e9-91d0ecf1278e",
   "metadata": {},
   "outputs": [
    {
     "name": "stdout",
     "output_type": "stream",
     "text": [
      "[31, 33, 35, 37, 39, 41, 43, 45, 47, 49, 51, 53, 55, 57, 59]\n"
     ]
    }
   ],
   "source": [
    "print(odd1)"
   ]
  },
  {
   "cell_type": "markdown",
   "id": "bd1fd8d8-0076-4852-8271-842f4a217455",
   "metadata": {},
   "source": [
    "## Zip fuction"
   ]
  },
  {
   "cell_type": "code",
   "execution_count": 249,
   "id": "868ba344-5007-476e-ac8b-5d1044061a2d",
   "metadata": {},
   "outputs": [],
   "source": [
    "l1=[12,45,56,78]\n",
    "l2=[13,23,56,65]"
   ]
  },
  {
   "cell_type": "code",
   "execution_count": 250,
   "id": "b179bff2-2b02-46ec-89d1-4029a398c2f3",
   "metadata": {},
   "outputs": [
    {
     "data": {
      "text/plain": [
       "[(12, 13), (45, 23), (56, 56), (78, 65)]"
      ]
     },
     "execution_count": 250,
     "metadata": {},
     "output_type": "execute_result"
    }
   ],
   "source": [
    "list(zip(l1,l2))"
   ]
  },
  {
   "cell_type": "code",
   "execution_count": 251,
   "id": "daa9a776-37bc-44b7-9795-5edb48fce754",
   "metadata": {},
   "outputs": [
    {
     "name": "stdout",
     "output_type": "stream",
     "text": [
      "(12, 13)\n",
      "(45, 23)\n",
      "(56, 56)\n",
      "(78, 65)\n"
     ]
    }
   ],
   "source": [
    "for i in zip (l1,l2):\n",
    "   print(i)"
   ]
  },
  {
   "cell_type": "code",
   "execution_count": 252,
   "id": "6f2cc9cb-1fa6-4d50-844c-dc7d10291e70",
   "metadata": {},
   "outputs": [],
   "source": [
    "country = [\"India\",\"Australia\",\"Russia\"]\n",
    "country_codes = [\"IN\",\"AU\",\"RU\",\"USA\"]"
   ]
  },
  {
   "cell_type": "code",
   "execution_count": 253,
   "id": "b82cb54d-2541-46e3-8bbf-8d8990375f93",
   "metadata": {},
   "outputs": [
    {
     "data": {
      "text/plain": [
       "[('India', 'IN'), ('Australia', 'AU'), ('Russia', 'RU')]"
      ]
     },
     "execution_count": 253,
     "metadata": {},
     "output_type": "execute_result"
    }
   ],
   "source": [
    "list(zip(country,country_codes))"
   ]
  },
  {
   "cell_type": "code",
   "execution_count": 254,
   "id": "564e3d2c-4b19-46f2-bb06-c89d473ea274",
   "metadata": {},
   "outputs": [
    {
     "name": "stdout",
     "output_type": "stream",
     "text": [
      "('India', 'IN')\n",
      "('Australia', 'AU')\n",
      "('Russia', 'RU')\n"
     ]
    }
   ],
   "source": [
    "for i in zip(country,country_codes):\n",
    "    print(i)"
   ]
  },
  {
   "cell_type": "code",
   "execution_count": 255,
   "id": "010b154d-2416-414b-baf2-adc142cd8d72",
   "metadata": {},
   "outputs": [
    {
     "name": "stdout",
     "output_type": "stream",
     "text": [
      "contry code of India is IN\n",
      "contry code of Australia is AU\n",
      "contry code of Russia is RU\n"
     ]
    }
   ],
   "source": [
    "for i,j in zip(country,country_codes):\n",
    "    print(f\"contry code of {i} is {j}\")"
   ]
  },
  {
   "cell_type": "markdown",
   "id": "85de5552-24ac-4cab-9191-3712ebe83cdc",
   "metadata": {},
   "source": [
    "## list comprehension"
   ]
  },
  {
   "cell_type": "code",
   "execution_count": 257,
   "id": "9cfaed23-a46c-4fce-9ee0-01e2e508a4be",
   "metadata": {},
   "outputs": [
    {
     "name": "stdout",
     "output_type": "stream",
     "text": [
      "[2, 4, 6, 8, 10, 12, 14, 16, 18]\n"
     ]
    }
   ],
   "source": [
    "even=[]\n",
    "for i in range(1,20):\n",
    "    if i%2==0:\n",
    "        even.append(i)\n",
    "\n",
    "print(even)"
   ]
  },
  {
   "cell_type": "code",
   "execution_count": 258,
   "id": "fb1cefbb-da18-435f-a07a-6a7782003e54",
   "metadata": {},
   "outputs": [
    {
     "name": "stdout",
     "output_type": "stream",
     "text": [
      "[2, 4, 6, 8, 10, 12, 14, 16, 18]\n"
     ]
    }
   ],
   "source": [
    "even1=[i for i in range(1,20) if i%2==0]\n",
    "print(even1)"
   ]
  },
  {
   "cell_type": "code",
   "execution_count": 259,
   "id": "f5d6a10c-b1c5-4402-913c-20b22f360522",
   "metadata": {},
   "outputs": [
    {
     "name": "stdout",
     "output_type": "stream",
     "text": [
      "[1, 4, 9, 16, 25, 36, 49, 64, 81]\n"
     ]
    }
   ],
   "source": [
    "\n",
    "squ_num=[]\n",
    "for i in range(1,10):\n",
    "    j=i**2\n",
    "    squ_num.append(j)\n",
    "print(squ_num)"
   ]
  },
  {
   "cell_type": "code",
   "execution_count": 260,
   "id": "d4bbef59-bd54-4fcc-8196-e373c0a2e2bb",
   "metadata": {},
   "outputs": [
    {
     "name": "stdout",
     "output_type": "stream",
     "text": [
      "[1, 4, 9, 16, 25, 36, 49, 64, 81]\n"
     ]
    }
   ],
   "source": [
    "squ_num1=[i**2 for i in range(1,10) ]\n",
    "print(squ_num1)"
   ]
  },
  {
   "cell_type": "code",
   "execution_count": 261,
   "id": "be84ebb1-ee3e-4459-ab6a-34aef33afb75",
   "metadata": {},
   "outputs": [
    {
     "name": "stdout",
     "output_type": "stream",
     "text": [
      "[1, 3, 5, 7, 9]\n"
     ]
    }
   ],
   "source": [
    "odd=[]\n",
    "for i in range(1,10):\n",
    "    if (i%2!=0):\n",
    "        odd.append(i)\n",
    "\n",
    "print(odd)\n",
    "    "
   ]
  },
  {
   "cell_type": "code",
   "execution_count": 262,
   "id": "1570aada-2806-4ef9-b8b2-297c534c0306",
   "metadata": {},
   "outputs": [
    {
     "name": "stdout",
     "output_type": "stream",
     "text": [
      "[1, 3, 5, 7, 9, 11, 13, 15, 17, 19]\n"
     ]
    }
   ],
   "source": [
    "odd1=[i for i in range(1,20) if i%2!=0]\n",
    "print(odd1)"
   ]
  },
  {
   "cell_type": "code",
   "execution_count": 263,
   "id": "497a8b45-952e-423d-8398-9954daf9b9b6",
   "metadata": {},
   "outputs": [
    {
     "name": "stdout",
     "output_type": "stream",
     "text": [
      "[52, 22, 12, 32]\n"
     ]
    }
   ],
   "source": [
    "x=[5,2,1,3]\n",
    "y=[]  \n",
    "b=2\n",
    "m=10\n",
    "# y=mx+b\n",
    "for i in x:\n",
    "    a=(10*i)+2\n",
    "    y.append(a)\n",
    "\n",
    "print(y)\n",
    "    \n",
    "\n",
    "    \n",
    "    \n"
   ]
  },
  {
   "cell_type": "code",
   "execution_count": 264,
   "id": "58deb52f-5967-458c-a679-047cd3f15229",
   "metadata": {},
   "outputs": [
    {
     "name": "stdout",
     "output_type": "stream",
     "text": [
      "[52, 22, 12, 32]\n"
     ]
    }
   ],
   "source": [
    "y1=[(10*i)+2 for i in x]\n",
    "print(y1)"
   ]
  },
  {
   "cell_type": "code",
   "execution_count": 265,
   "id": "eb0ef58b-c759-417a-9bf8-a07ed0551d6a",
   "metadata": {},
   "outputs": [
    {
     "name": "stdout",
     "output_type": "stream",
     "text": [
      "[1, 'even', 3, 'even', 5, 'even', 7, 'even', 9, 'even', 11, 'even', 13, 'even', 15, 'even', 17, 'even', 19]\n"
     ]
    }
   ],
   "source": [
    "even_odd=[ i if i%2!=0 else \"even\" for i in range(1,20)]\n",
    "print(even_odd)"
   ]
  },
  {
   "cell_type": "markdown",
   "id": "5de6d548-8561-43db-9f00-5b01f79926c8",
   "metadata": {},
   "source": [
    "## dictionaries"
   ]
  },
  {
   "cell_type": "code",
   "execution_count": 267,
   "id": "3ddb4c43-6ff0-469f-b34f-0dcee3210e25",
   "metadata": {},
   "outputs": [],
   "source": [
    "emp_ids={1:101,\n",
    "        2:102,\n",
    "        3:103,\n",
    "        4:104,\n",
    "        5:105}"
   ]
  },
  {
   "cell_type": "code",
   "execution_count": 268,
   "id": "9f3e2773-f878-4082-b047-abd7429b7b95",
   "metadata": {},
   "outputs": [
    {
     "data": {
      "text/plain": [
       "dict"
      ]
     },
     "execution_count": 268,
     "metadata": {},
     "output_type": "execute_result"
    }
   ],
   "source": [
    "type(emp_ids)"
   ]
  },
  {
   "cell_type": "code",
   "execution_count": 269,
   "id": "e7950a81-8ad9-4ee6-84c6-847e8399609c",
   "metadata": {},
   "outputs": [
    {
     "data": {
      "text/plain": [
       "dict_keys([1, 2, 3, 4, 5])"
      ]
     },
     "execution_count": 269,
     "metadata": {},
     "output_type": "execute_result"
    }
   ],
   "source": [
    "emp_ids.keys()"
   ]
  },
  {
   "cell_type": "code",
   "execution_count": 270,
   "id": "bcbf9a21-4879-44c7-ae11-940265923e6f",
   "metadata": {},
   "outputs": [
    {
     "data": {
      "text/plain": [
       "dict_values([101, 102, 103, 104, 105])"
      ]
     },
     "execution_count": 270,
     "metadata": {},
     "output_type": "execute_result"
    }
   ],
   "source": [
    "emp_ids.values()"
   ]
  },
  {
   "cell_type": "code",
   "execution_count": 271,
   "id": "0061730c-4a70-45bd-9d87-128829feeb70",
   "metadata": {},
   "outputs": [
    {
     "data": {
      "text/plain": [
       "dict_items([(1, 101), (2, 102), (3, 103), (4, 104), (5, 105)])"
      ]
     },
     "execution_count": 271,
     "metadata": {},
     "output_type": "execute_result"
    }
   ],
   "source": [
    "emp_ids.items()"
   ]
  },
  {
   "cell_type": "code",
   "execution_count": 272,
   "id": "2948a93c-bd25-4dd6-b098-1cc6a39fb188",
   "metadata": {},
   "outputs": [],
   "source": [
    "emp_data={\"ids\":[101,102,103,104,105],\n",
    "         \"names\":[\"raman\",\"baman\",\"taman\",\"suman\",\"priya\"],\n",
    "         \"dept\":[\"IT\",\"mkt\",\"sales\",\"hr\",\"bpo\"]}"
   ]
  },
  {
   "cell_type": "code",
   "execution_count": 273,
   "id": "a2979e56-3698-438c-90b5-eea8c73ce1f4",
   "metadata": {},
   "outputs": [
    {
     "data": {
      "text/plain": [
       "{'ids': [101, 102, 103, 104, 105],\n",
       " 'names': ['raman', 'baman', 'taman', 'suman', 'priya'],\n",
       " 'dept': ['IT', 'mkt', 'sales', 'hr', 'bpo']}"
      ]
     },
     "execution_count": 273,
     "metadata": {},
     "output_type": "execute_result"
    }
   ],
   "source": [
    "emp_data"
   ]
  },
  {
   "cell_type": "code",
   "execution_count": 274,
   "id": "44f22246-6bba-424e-850f-2037593233c9",
   "metadata": {},
   "outputs": [
    {
     "data": {
      "text/plain": [
       "dict"
      ]
     },
     "execution_count": 274,
     "metadata": {},
     "output_type": "execute_result"
    }
   ],
   "source": [
    "type(emp_data)"
   ]
  },
  {
   "cell_type": "code",
   "execution_count": 275,
   "id": "e70a7078-d256-4fee-98e3-2074ac297a3a",
   "metadata": {},
   "outputs": [
    {
     "data": {
      "text/plain": [
       "dict_keys(['ids', 'names', 'dept'])"
      ]
     },
     "execution_count": 275,
     "metadata": {},
     "output_type": "execute_result"
    }
   ],
   "source": [
    "emp_data.keys()"
   ]
  },
  {
   "cell_type": "code",
   "execution_count": 276,
   "id": "14694040-d6e5-4612-92b7-dc2020a20fd2",
   "metadata": {},
   "outputs": [
    {
     "data": {
      "text/plain": [
       "dict_values([[101, 102, 103, 104, 105], ['raman', 'baman', 'taman', 'suman', 'priya'], ['IT', 'mkt', 'sales', 'hr', 'bpo']])"
      ]
     },
     "execution_count": 276,
     "metadata": {},
     "output_type": "execute_result"
    }
   ],
   "source": [
    "emp_data.values()"
   ]
  },
  {
   "cell_type": "code",
   "execution_count": 277,
   "id": "75c444a3-e028-4527-ad94-0e3363d95639",
   "metadata": {},
   "outputs": [
    {
     "data": {
      "text/plain": [
       "dict_items([('ids', [101, 102, 103, 104, 105]), ('names', ['raman', 'baman', 'taman', 'suman', 'priya']), ('dept', ['IT', 'mkt', 'sales', 'hr', 'bpo'])])"
      ]
     },
     "execution_count": 277,
     "metadata": {},
     "output_type": "execute_result"
    }
   ],
   "source": [
    "emp_data.items()"
   ]
  },
  {
   "cell_type": "code",
   "execution_count": 278,
   "id": "94a73497-a487-4892-8c12-2510337cdea3",
   "metadata": {},
   "outputs": [
    {
     "name": "stdout",
     "output_type": "stream",
     "text": [
      "ids [101, 102, 103, 104, 105]\n",
      "names ['raman', 'baman', 'taman', 'suman', 'priya']\n",
      "dept ['IT', 'mkt', 'sales', 'hr', 'bpo']\n"
     ]
    }
   ],
   "source": [
    "for i,j in emp_data.items():\n",
    " print (i,j)"
   ]
  },
  {
   "cell_type": "code",
   "execution_count": 279,
   "id": "b95407e0-cf38-4f08-9d17-26d7d29aade6",
   "metadata": {},
   "outputs": [
    {
     "name": "stdout",
     "output_type": "stream",
     "text": [
      "ids\n",
      "names\n",
      "dept\n"
     ]
    }
   ],
   "source": [
    "for i in emp_data.keys():\n",
    "    print(i)"
   ]
  },
  {
   "cell_type": "code",
   "execution_count": 280,
   "id": "ace4395e-29d8-439b-a34f-7d5986d67da2",
   "metadata": {},
   "outputs": [
    {
     "name": "stdout",
     "output_type": "stream",
     "text": [
      "key data: ids\n",
      "value data:[101, 102, 103, 104, 105]\n",
      "key data: names\n",
      "value data:['raman', 'baman', 'taman', 'suman', 'priya']\n",
      "key data: dept\n",
      "value data:['IT', 'mkt', 'sales', 'hr', 'bpo']\n"
     ]
    }
   ],
   "source": [
    "for i,j in emp_data.items():\n",
    "    print(f\"key data: {i}\")\n",
    "    print(f\"value data:{j}\")"
   ]
  },
  {
   "cell_type": "markdown",
   "id": "4e1ededf-a7f8-4c60-b23a-94c24a05dfb9",
   "metadata": {},
   "source": [
    "## Functions\n",
    "   Built in Function"
   ]
  },
  {
   "cell_type": "code",
   "execution_count": 282,
   "id": "3fcf5e8a-c8ee-4f07-91de-0462d88a9da5",
   "metadata": {},
   "outputs": [],
   "source": [
    "salaries=(10000,25000,12000,34000,12000)"
   ]
  },
  {
   "cell_type": "code",
   "execution_count": 283,
   "id": "61d18d7a-65bf-463a-a521-087d5e926d69",
   "metadata": {},
   "outputs": [
    {
     "data": {
      "text/plain": [
       "(10000, 25000, 12000, 34000, 12000)"
      ]
     },
     "execution_count": 283,
     "metadata": {},
     "output_type": "execute_result"
    }
   ],
   "source": [
    "salaries"
   ]
  },
  {
   "cell_type": "code",
   "execution_count": 284,
   "id": "08d20bcf-ff4a-47c5-8dca-139a4d61fdc1",
   "metadata": {},
   "outputs": [
    {
     "data": {
      "text/plain": [
       "93000"
      ]
     },
     "execution_count": 284,
     "metadata": {},
     "output_type": "execute_result"
    }
   ],
   "source": [
    "sum(salaries)"
   ]
  },
  {
   "cell_type": "code",
   "execution_count": 285,
   "id": "aed671c2-a6b3-4199-8fc8-9f57b2ed9b8d",
   "metadata": {},
   "outputs": [
    {
     "data": {
      "text/plain": [
       "34000"
      ]
     },
     "execution_count": 285,
     "metadata": {},
     "output_type": "execute_result"
    }
   ],
   "source": [
    "max(salaries)"
   ]
  },
  {
   "cell_type": "code",
   "execution_count": 286,
   "id": "2e73c339-23f9-4b04-9652-4f93aac7afa0",
   "metadata": {},
   "outputs": [
    {
     "data": {
      "text/plain": [
       "10000"
      ]
     },
     "execution_count": 286,
     "metadata": {},
     "output_type": "execute_result"
    }
   ],
   "source": [
    "min(salaries)"
   ]
  },
  {
   "cell_type": "code",
   "execution_count": 287,
   "id": "db051e9a-5af2-42c4-ba2c-f166d1537fc4",
   "metadata": {},
   "outputs": [
    {
     "data": {
      "text/plain": [
       "2"
      ]
     },
     "execution_count": 287,
     "metadata": {},
     "output_type": "execute_result"
    }
   ],
   "source": [
    "salaries.count(12000)"
   ]
  },
  {
   "cell_type": "markdown",
   "id": "5514c9fd-4053-48c9-9604-cab4465abde8",
   "metadata": {},
   "source": [
    "## user defined function\n",
    "     Syntax:\n",
    "    def function_name(parameters1,parameters2):\n",
    "    \"\"\"\n",
    "    Mention the purpose of this function\n",
    "    Input: Provide detailing on input data\n",
    "    Output: Provide what is being returned when user calls this function\n",
    "    \"\"\"\n",
    "    executable code\n",
    "    return data"
   ]
  },
  {
   "cell_type": "code",
   "execution_count": 289,
   "id": "da25e495-8c2a-400e-a034-296df0ba0a74",
   "metadata": {},
   "outputs": [],
   "source": [
    "emp_data_3=[12000,\"HR\",32000,\"IT\",16000,\"MKT\"]"
   ]
  },
  {
   "cell_type": "code",
   "execution_count": 290,
   "id": "ece639fb-50ea-4c06-b049-43907a6f7548",
   "metadata": {},
   "outputs": [
    {
     "data": {
      "text/plain": [
       "[12000, 'HR', 32000, 'IT', 16000, 'MKT']"
      ]
     },
     "execution_count": 290,
     "metadata": {},
     "output_type": "execute_result"
    }
   ],
   "source": [
    "emp_data_3"
   ]
  },
  {
   "cell_type": "code",
   "execution_count": 291,
   "id": "6b823bda-42db-412e-b45c-bd5f0617d8de",
   "metadata": {},
   "outputs": [],
   "source": [
    "def add_nums(data):\n",
    "    \"\"\"\n",
    "    input: take list as an input\n",
    "    output:returns total sum of numbers present in the list\n",
    "    \n",
    "    \"\"\"\n",
    "    s=0\n",
    "    for i in data:\n",
    "        if isinstance(i,int|float):\n",
    "            s=s+i\n",
    "    return s\n",
    "    "
   ]
  },
  {
   "cell_type": "code",
   "execution_count": 292,
   "id": "22bec88e-f455-423d-9a55-ffeb7da512b4",
   "metadata": {},
   "outputs": [],
   "source": [
    "add=add_nums(emp_data_3)"
   ]
  },
  {
   "cell_type": "code",
   "execution_count": 293,
   "id": "19aaf513-22dc-4a25-b6f2-24c4ede77cce",
   "metadata": {},
   "outputs": [
    {
     "data": {
      "text/plain": [
       "60000"
      ]
     },
     "execution_count": 293,
     "metadata": {},
     "output_type": "execute_result"
    }
   ],
   "source": [
    "add"
   ]
  },
  {
   "cell_type": "code",
   "execution_count": 294,
   "id": "20d0ea57-4a74-47c2-ae2d-9989b725ed6d",
   "metadata": {},
   "outputs": [],
   "source": [
    "data1=[34.4,\"st\",76,\"rs\",98.5]"
   ]
  },
  {
   "cell_type": "code",
   "execution_count": 295,
   "id": "02c65d44-2767-4f45-b3d4-a99478ea68c6",
   "metadata": {},
   "outputs": [],
   "source": [
    "q=add_nums(data1)"
   ]
  },
  {
   "cell_type": "code",
   "execution_count": 296,
   "id": "17f978b5-d931-475c-8892-3a6f9e97688e",
   "metadata": {},
   "outputs": [
    {
     "data": {
      "text/plain": [
       "208.9"
      ]
     },
     "execution_count": 296,
     "metadata": {},
     "output_type": "execute_result"
    }
   ],
   "source": [
    "q"
   ]
  },
  {
   "cell_type": "code",
   "execution_count": 297,
   "id": "76a14140-c7b2-4f70-83a8-9c271834bcf4",
   "metadata": {},
   "outputs": [],
   "source": [
    "def multiply(x:int,y:int|float)->int:\n",
    "    \"\"\"\n",
    "    Input: Take two numbers as input\n",
    "    Output: returns product of above numbers\n",
    "    example\n",
    "    a=12,b=2\n",
    "    output to be returned 24\n",
    "    \"\"\"\n",
    "    z=x+y\n",
    "    return z"
   ]
  },
  {
   "cell_type": "code",
   "execution_count": 298,
   "id": "09ea9953-e3a1-4932-b052-0f42835bedc9",
   "metadata": {},
   "outputs": [
    {
     "data": {
      "text/plain": [
       "15"
      ]
     },
     "execution_count": 298,
     "metadata": {},
     "output_type": "execute_result"
    }
   ],
   "source": [
    "multiplication1=multiply(12,3)\n",
    "multiplication1"
   ]
  },
  {
   "cell_type": "code",
   "execution_count": 299,
   "id": "e61b87a3-ff30-4685-b68f-a34beb13addf",
   "metadata": {},
   "outputs": [
    {
     "name": "stdout",
     "output_type": "stream",
     "text": [
      "Help on function multiply in module __main__:\n",
      "\n",
      "multiply(x: int, y: int | float) -> int\n",
      "    Input: Take two numbers as input\n",
      "    Output: returns product of above numbers\n",
      "    example\n",
      "    a=12,b=2\n",
      "    output to be returned 24\n",
      "\n"
     ]
    }
   ],
   "source": [
    "help(multiply)"
   ]
  },
  {
   "cell_type": "markdown",
   "id": "936c88f9-cfac-40d4-8332-c42acf405942",
   "metadata": {},
   "source": [
    "## Write a function which takes input as a list and returns a list which contains cubes of elements"
   ]
  },
  {
   "cell_type": "code",
   "execution_count": 301,
   "id": "083a19e2-ce9e-4065-b5b7-b3aadc46b406",
   "metadata": {},
   "outputs": [],
   "source": [
    "l1=[2,3,4,5,6]"
   ]
  },
  {
   "cell_type": "code",
   "execution_count": 302,
   "id": "61ca944f-0ac6-4e76-8069-7bbf9a638d86",
   "metadata": {},
   "outputs": [],
   "source": [
    "def cube_list(listdata):\n",
    "    \"\"\"\n",
    "    Input:take a list as an input\n",
    "    Output: return a list which contains cube of numbers\n",
    "    \"\"\"\n",
    "    cube=[]\n",
    "    for i in (listdata):\n",
    "        a=i**3\n",
    "        cube.append(a)\n",
    "    return cube\n",
    "        \n",
    "        \n",
    "        \n",
    "    "
   ]
  },
  {
   "cell_type": "code",
   "execution_count": 303,
   "id": "34c9fc26-4c84-4b68-bede-becdfba13e90",
   "metadata": {},
   "outputs": [
    {
     "data": {
      "text/plain": [
       "[8, 27, 64, 125, 216]"
      ]
     },
     "execution_count": 303,
     "metadata": {},
     "output_type": "execute_result"
    }
   ],
   "source": [
    "cube_nums=cube_list(l1)\n",
    "cube_nums"
   ]
  },
  {
   "cell_type": "markdown",
   "id": "ca93231b-99c6-411b-9b71-2139c091fc4e",
   "metadata": {},
   "source": [
    "## Write a function to calculate simple interest\n"
   ]
  },
  {
   "cell_type": "markdown",
   "id": "e10e7994-259d-42ff-83c9-28738f7a2cbb",
   "metadata": {},
   "source": [
    "## S.I=p*r*t/100"
   ]
  },
  {
   "cell_type": "code",
   "execution_count": 306,
   "id": "2eea462e-5464-4f87-90cf-bdfd051c3c8b",
   "metadata": {},
   "outputs": [
    {
     "name": "stdin",
     "output_type": "stream",
     "text": [
      "enter principal amount  15000\n",
      "enter rate of interest 12\n",
      "enter time period 5\n"
     ]
    }
   ],
   "source": [
    "principal=int(input(\"enter principal amount \"))\n",
    "rate=float(input(\"enter rate of interest\"))\n",
    "time=int(input(\"enter time period\"))"
   ]
  },
  {
   "cell_type": "code",
   "execution_count": 307,
   "id": "226e7b8d-2a77-44f0-800d-0038e76550af",
   "metadata": {},
   "outputs": [],
   "source": [
    "def simple_interest(p,r,t):\n",
    "    \"\"\"\n",
    "    Input: take principle,rate of interest,and time period as input\n",
    "    Ouput: Returns Simple Interest\n",
    "    \n",
    "    \"\"\"\n",
    "    SI=(p*r*t)/100\n",
    "    return SI\n",
    "    "
   ]
  },
  {
   "cell_type": "code",
   "execution_count": 308,
   "id": "e59c1c16-8a6c-4e82-8cb5-2d509ab27262",
   "metadata": {},
   "outputs": [
    {
     "data": {
      "text/plain": [
       "9000.0"
      ]
     },
     "execution_count": 308,
     "metadata": {},
     "output_type": "execute_result"
    }
   ],
   "source": [
    "SI1=simple_interest(principal,rate,time)\n",
    "SI1"
   ]
  },
  {
   "cell_type": "code",
   "execution_count": 309,
   "id": "59d377ba-fc29-421c-a9ce-48eba651ec6d",
   "metadata": {},
   "outputs": [
    {
     "data": {
      "text/plain": [
       "30000.0"
      ]
     },
     "execution_count": 309,
     "metadata": {},
     "output_type": "execute_result"
    }
   ],
   "source": [
    "SI2=simple_interest(50000,12,5)\n",
    "SI2"
   ]
  },
  {
   "cell_type": "code",
   "execution_count": 310,
   "id": "e35715a9-d07d-4803-ad03-4d387f2b2815",
   "metadata": {},
   "outputs": [
    {
     "name": "stdin",
     "output_type": "stream",
     "text": [
      "enter p value 15000\n",
      "enter r value 12\n",
      "enter t value 5\n"
     ]
    }
   ],
   "source": [
    "p1=int(input(\"enter p value\"))\n",
    "r1=float(input(\"enter r value\"))\n",
    "t1=int(input(\"enter t value\"))"
   ]
  },
  {
   "cell_type": "code",
   "execution_count": 311,
   "id": "6dca8cf2-fb1a-490d-896e-c3845730073b",
   "metadata": {},
   "outputs": [
    {
     "data": {
      "text/plain": [
       "9000.0"
      ]
     },
     "execution_count": 311,
     "metadata": {},
     "output_type": "execute_result"
    }
   ],
   "source": [
    "SI3=simple_interest(p1,r1,t1)\n",
    "SI3"
   ]
  },
  {
   "cell_type": "code",
   "execution_count": 312,
   "id": "a472e006-6ae4-485f-86e4-4dd5807eb393",
   "metadata": {},
   "outputs": [
    {
     "data": {
      "text/plain": [
       "30000.0"
      ]
     },
     "execution_count": 312,
     "metadata": {},
     "output_type": "execute_result"
    }
   ],
   "source": [
    "SI4=simple_interest(50000,12,5)\n",
    "SI4"
   ]
  },
  {
   "cell_type": "markdown",
   "id": "56717293-09d6-4a09-a10c-61f9c98dcf9f",
   "metadata": {},
   "source": [
    "## Global and local variables"
   ]
  },
  {
   "cell_type": "code",
   "execution_count": 314,
   "id": "8d7b1b22-2516-484c-aec1-4c42079102ae",
   "metadata": {},
   "outputs": [],
   "source": [
    "s=\"hello world\" #global variable"
   ]
  },
  {
   "cell_type": "code",
   "execution_count": 315,
   "id": "a46ed0f1-52e1-456a-99e6-3fe4aaccdb0d",
   "metadata": {},
   "outputs": [],
   "source": [
    "def pg():\n",
    "    print(s)\n",
    " "
   ]
  },
  {
   "cell_type": "code",
   "execution_count": 316,
   "id": "74d9d29a-880f-40e7-85a3-37833d88f4ec",
   "metadata": {},
   "outputs": [
    {
     "name": "stdout",
     "output_type": "stream",
     "text": [
      "hello world\n"
     ]
    }
   ],
   "source": [
    "pg()"
   ]
  },
  {
   "cell_type": "code",
   "execution_count": 317,
   "id": "ed14336e-fbc6-4931-bc34-0466fa820e81",
   "metadata": {},
   "outputs": [],
   "source": [
    "def add_fun(x,y):\n",
    "    \"\"\"\n",
    "    dummy function\n",
    "    \"\"\"\n",
    "    z=x+y   # z is local variable and x,y are global variable\n",
    "    return z"
   ]
  },
  {
   "cell_type": "code",
   "execution_count": 318,
   "id": "13b65a25-bdea-4239-b5d5-85f80a474e7d",
   "metadata": {},
   "outputs": [],
   "source": [
    "x=24\n",
    "y=10"
   ]
  },
  {
   "cell_type": "code",
   "execution_count": 319,
   "id": "653754a5-3767-420e-96df-449dae55d17a",
   "metadata": {},
   "outputs": [],
   "source": [
    "add=add_fun(x,y)"
   ]
  },
  {
   "cell_type": "code",
   "execution_count": 320,
   "id": "2d3ec23f-f551-4b2d-bd8d-7566c5b22c96",
   "metadata": {},
   "outputs": [
    {
     "data": {
      "text/plain": [
       "34"
      ]
     },
     "execution_count": 320,
     "metadata": {},
     "output_type": "execute_result"
    }
   ],
   "source": [
    "add"
   ]
  },
  {
   "cell_type": "code",
   "execution_count": 321,
   "id": "a332a0fb-e618-4038-97e0-d22928514a42",
   "metadata": {},
   "outputs": [],
   "source": [
    "x=15"
   ]
  },
  {
   "cell_type": "code",
   "execution_count": 3,
   "id": "0a5ada10-8331-49d7-9ffa-ec5ddd3155d6",
   "metadata": {},
   "outputs": [],
   "source": [
    "def sum_func():\n",
    "    x=x+15\n",
    "    return x\n",
    "    "
   ]
  },
  {
   "cell_type": "code",
   "execution_count": 323,
   "id": "f71a4c99-b1c2-4d00-bb26-e5447fbc3208",
   "metadata": {},
   "outputs": [],
   "source": [
    "#sum_func()"
   ]
  },
  {
   "cell_type": "code",
   "execution_count": 324,
   "id": "b685e30c-c1a7-4e7a-a09b-8a77efe77c60",
   "metadata": {},
   "outputs": [],
   "source": [
    "def sum_func():\n",
    "    global x\n",
    "    x=x+15\n",
    "    return x"
   ]
  },
  {
   "cell_type": "code",
   "execution_count": 325,
   "id": "3211bfd9-5c90-4103-b801-69d3204bb519",
   "metadata": {},
   "outputs": [
    {
     "data": {
      "text/plain": [
       "30"
      ]
     },
     "execution_count": 325,
     "metadata": {},
     "output_type": "execute_result"
    }
   ],
   "source": [
    "sum_func()"
   ]
  },
  {
   "cell_type": "markdown",
   "id": "51ea2063-44e2-4ece-a0ac-81a84da022f5",
   "metadata": {},
   "source": [
    "## generator function"
   ]
  },
  {
   "cell_type": "code",
   "execution_count": 327,
   "id": "ce404fdb-e926-4b0b-a372-eead3b176fd2",
   "metadata": {},
   "outputs": [],
   "source": [
    " ## syntax for generator function\n",
    "def func_name(parameters):\n",
    "    \"\"\"\n",
    "    doc string\n",
    "    \"\"\"\n",
    "    yield value"
   ]
  },
  {
   "cell_type": "code",
   "execution_count": 328,
   "id": "466286ae-64dc-490d-8677-5b1b92f9a05b",
   "metadata": {},
   "outputs": [],
   "source": [
    "def squ_num(n):\n",
    "    for i in range(1,n+1):\n",
    "        yield i**2"
   ]
  },
  {
   "cell_type": "code",
   "execution_count": 329,
   "id": "76bffc19-42d6-4567-a209-6726abc120c9",
   "metadata": {},
   "outputs": [
    {
     "data": {
      "text/plain": [
       "<generator object squ_num at 0x000001D152FA3840>"
      ]
     },
     "execution_count": 329,
     "metadata": {},
     "output_type": "execute_result"
    }
   ],
   "source": [
    "squ_num(10)"
   ]
  },
  {
   "cell_type": "code",
   "execution_count": 330,
   "id": "fefa89d3-663a-40ba-9eeb-032ad70dcb7e",
   "metadata": {},
   "outputs": [
    {
     "data": {
      "text/plain": [
       "[1, 4, 9, 16, 25, 36, 49, 64, 81, 100]"
      ]
     },
     "execution_count": 330,
     "metadata": {},
     "output_type": "execute_result"
    }
   ],
   "source": [
    "list(squ_num(10))"
   ]
  },
  {
   "cell_type": "code",
   "execution_count": 331,
   "id": "4a914021-6659-40e9-b39c-a58d048817d1",
   "metadata": {},
   "outputs": [
    {
     "name": "stdout",
     "output_type": "stream",
     "text": [
      "1\n",
      "4\n",
      "9\n",
      "16\n",
      "25\n",
      "36\n",
      "49\n",
      "64\n",
      "81\n",
      "100\n"
     ]
    }
   ],
   "source": [
    "for i in squ_num(10):\n",
    "    print (i)"
   ]
  },
  {
   "cell_type": "code",
   "execution_count": 332,
   "id": "f4bc0926-0797-4cd9-8a14-aedc39b02f18",
   "metadata": {},
   "outputs": [],
   "source": [
    "def even_num(n):\n",
    "    for i in range(1,n+1):\n",
    "        if (i%2==0):\n",
    "            yield (i**2)"
   ]
  },
  {
   "cell_type": "code",
   "execution_count": 333,
   "id": "80854f90-af35-4b23-9b85-3543623e5f66",
   "metadata": {},
   "outputs": [
    {
     "data": {
      "text/plain": [
       "[4, 16, 36, 64, 100]"
      ]
     },
     "execution_count": 333,
     "metadata": {},
     "output_type": "execute_result"
    }
   ],
   "source": [
    "list(even_num(10))"
   ]
  },
  {
   "cell_type": "code",
   "execution_count": 334,
   "id": "5ea24f7e-e1d6-4d6e-93c5-236ec6fe0d87",
   "metadata": {},
   "outputs": [
    {
     "name": "stdout",
     "output_type": "stream",
     "text": [
      "4\n",
      "16\n",
      "36\n",
      "64\n",
      "100\n",
      "144\n",
      "196\n",
      "256\n",
      "324\n",
      "400\n"
     ]
    }
   ],
   "source": [
    "for i in even_num(20):\n",
    "    print(i)"
   ]
  },
  {
   "cell_type": "code",
   "execution_count": 335,
   "id": "ff25fef1-14f2-44b6-8e6a-d3e05a6a23a7",
   "metadata": {},
   "outputs": [],
   "source": [
    "def odd_num(n):\n",
    "    for i in range(1,n+1):\n",
    "        if (i%2!=0):\n",
    "            yield i\n",
    "            \n",
    "         \n",
    "    "
   ]
  },
  {
   "cell_type": "code",
   "execution_count": 336,
   "id": "6b9b4666-0fb4-4014-b445-9ae2ac0a4bb0",
   "metadata": {},
   "outputs": [
    {
     "data": {
      "text/plain": [
       "[1, 3, 5, 7, 9, 11, 13, 15, 17, 19]"
      ]
     },
     "execution_count": 336,
     "metadata": {},
     "output_type": "execute_result"
    }
   ],
   "source": [
    "list(odd_num(20))"
   ]
  },
  {
   "cell_type": "code",
   "execution_count": 337,
   "id": "9f63719b-fa5f-43bc-b96a-b2a9461a952d",
   "metadata": {},
   "outputs": [
    {
     "name": "stdout",
     "output_type": "stream",
     "text": [
      "1\n",
      "3\n",
      "5\n",
      "7\n",
      "9\n",
      "11\n",
      "13\n",
      "15\n",
      "17\n",
      "19\n"
     ]
    }
   ],
   "source": [
    "for i in odd_num(20):\n",
    "    print(i)"
   ]
  },
  {
   "cell_type": "markdown",
   "id": "e5066a64-7945-40bf-b7c6-8c2c82a7fac6",
   "metadata": {},
   "source": [
    "## fibonacci series"
   ]
  },
  {
   "cell_type": "code",
   "execution_count": 339,
   "id": "3ab4776f-68d2-4c78-8378-700be7f21b52",
   "metadata": {},
   "outputs": [],
   "source": [
    "def fibonacci_series(n):\n",
    "    \"\"\"\n",
    "    provide range of n\n",
    "    output: generating a fibonacci series for n range of data\n",
    "    \n",
    "    \"\"\"\n",
    "    a,b=0,1\n",
    "    for _ in range(n+1):\n",
    "        yield a\n",
    "        a,b=b,a+b\n",
    "    "
   ]
  },
  {
   "cell_type": "code",
   "execution_count": 340,
   "id": "cb8e9e92-dafa-413c-8572-e3122aba3437",
   "metadata": {},
   "outputs": [
    {
     "data": {
      "text/plain": [
       "[0, 1, 1, 2, 3, 5, 8, 13, 21, 34, 55]"
      ]
     },
     "execution_count": 340,
     "metadata": {},
     "output_type": "execute_result"
    }
   ],
   "source": [
    "list(fibonacci_series(10))"
   ]
  },
  {
   "cell_type": "markdown",
   "id": "19ace8eb-e74c-41ee-8047-9f456f0ee81b",
   "metadata": {},
   "source": [
    "## lambda function\n",
    "    function name=lamda parameter:excutable code"
   ]
  },
  {
   "cell_type": "code",
   "execution_count": 342,
   "id": "4e91a126-b265-45eb-9a73-accbb74da02d",
   "metadata": {},
   "outputs": [],
   "source": [
    "sq_rt=lambda x:x**(1/2)"
   ]
  },
  {
   "cell_type": "code",
   "execution_count": 343,
   "id": "297ac73f-54d4-4c76-b024-77c2244fafd0",
   "metadata": {},
   "outputs": [
    {
     "data": {
      "text/plain": [
       "5.0"
      ]
     },
     "execution_count": 343,
     "metadata": {},
     "output_type": "execute_result"
    }
   ],
   "source": [
    "sq_rt(25)"
   ]
  },
  {
   "cell_type": "code",
   "execution_count": 344,
   "id": "c371b967-29de-4896-b94b-7353624f82df",
   "metadata": {},
   "outputs": [],
   "source": [
    "add_num=lambda x,y:x+y"
   ]
  },
  {
   "cell_type": "code",
   "execution_count": 345,
   "id": "bcbd1b37-545d-4179-9369-8ce7dba27d96",
   "metadata": {},
   "outputs": [
    {
     "data": {
      "text/plain": [
       "300"
      ]
     },
     "execution_count": 345,
     "metadata": {},
     "output_type": "execute_result"
    }
   ],
   "source": [
    "add_num(100,200)"
   ]
  },
  {
   "cell_type": "code",
   "execution_count": 346,
   "id": "38626c96-c630-43c1-8841-95fdf69f4980",
   "metadata": {},
   "outputs": [],
   "source": [
    "sub_num=lambda a,b:a-b"
   ]
  },
  {
   "cell_type": "code",
   "execution_count": 347,
   "id": "43a5f8a6-64c8-4905-9870-8fde8439662a",
   "metadata": {},
   "outputs": [
    {
     "data": {
      "text/plain": [
       "15"
      ]
     },
     "execution_count": 347,
     "metadata": {},
     "output_type": "execute_result"
    }
   ],
   "source": [
    "sub_num(25,10)"
   ]
  },
  {
   "cell_type": "markdown",
   "id": "6e8746bc-ac66-428a-9c61-3c6f198ff8b3",
   "metadata": {},
   "source": [
    "## map Function\n",
    "   map=(function_name,iterable)\n"
   ]
  },
  {
   "cell_type": "code",
   "execution_count": 349,
   "id": "0ddf8b30-5912-4653-b5ac-5273856b287e",
   "metadata": {},
   "outputs": [],
   "source": [
    "l1=[144,625,25,81]"
   ]
  },
  {
   "cell_type": "code",
   "execution_count": 350,
   "id": "8ccba397-bd38-4acf-861f-4716caaf0fd2",
   "metadata": {},
   "outputs": [
    {
     "data": {
      "text/plain": [
       "[12.0, 25.0, 5.0, 9.0]"
      ]
     },
     "execution_count": 350,
     "metadata": {},
     "output_type": "execute_result"
    }
   ],
   "source": [
    "list(map(sq_rt,l1))"
   ]
  },
  {
   "cell_type": "markdown",
   "id": "39d5cacf-1cea-4319-830c-cbfcfbbd1a6e",
   "metadata": {},
   "source": [
    "## String function"
   ]
  },
  {
   "cell_type": "code",
   "execution_count": 352,
   "id": "2ae541ab-e949-458a-96c6-66608972eddb",
   "metadata": {},
   "outputs": [
    {
     "name": "stdin",
     "output_type": "stream",
     "text": [
      "enter a number 12\n"
     ]
    }
   ],
   "source": [
    "num=input(\"enter a number\")"
   ]
  },
  {
   "cell_type": "code",
   "execution_count": 353,
   "id": "fed6a00a-554b-4d87-81f5-262c90d410f8",
   "metadata": {},
   "outputs": [
    {
     "data": {
      "text/plain": [
       "'12'"
      ]
     },
     "execution_count": 353,
     "metadata": {},
     "output_type": "execute_result"
    }
   ],
   "source": [
    "num"
   ]
  },
  {
   "cell_type": "code",
   "execution_count": 354,
   "id": "94c28fd9-7cef-4a62-8683-faf34e034ff2",
   "metadata": {},
   "outputs": [
    {
     "data": {
      "text/plain": [
       "['12']"
      ]
     },
     "execution_count": 354,
     "metadata": {},
     "output_type": "execute_result"
    }
   ],
   "source": [
    "num.split()"
   ]
  },
  {
   "cell_type": "code",
   "execution_count": 355,
   "id": "b695d243-1d34-4cf4-9309-0c9875eafcfe",
   "metadata": {},
   "outputs": [
    {
     "name": "stdout",
     "output_type": "stream",
     "text": [
      "[12]\n"
     ]
    }
   ],
   "source": [
    "num_new=[]\n",
    "for i in num.split():\n",
    "    num_new.append(int(i))\n",
    "print(num_new)"
   ]
  },
  {
   "cell_type": "code",
   "execution_count": 356,
   "id": "2d7cd6ea-7e4e-475f-bf36-08ae521d8ed5",
   "metadata": {},
   "outputs": [
    {
     "name": "stdin",
     "output_type": "stream",
     "text": [
      "enter numbers 12 13 14 15 \n"
     ]
    },
    {
     "data": {
      "text/plain": [
       "[12, 13, 14, 15]"
      ]
     },
     "execution_count": 356,
     "metadata": {},
     "output_type": "execute_result"
    }
   ],
   "source": [
    "list(map(int,input(\"enter numbers\").split()))"
   ]
  },
  {
   "cell_type": "code",
   "execution_count": 357,
   "id": "fc23e0a7-a122-401c-8575-962aba62b8d0",
   "metadata": {},
   "outputs": [
    {
     "name": "stdin",
     "output_type": "stream",
     "text": [
      "enter numbers 12 34 56 67 \n"
     ]
    }
   ],
   "source": [
    "st1=input(\"enter numbers\").split()"
   ]
  },
  {
   "cell_type": "code",
   "execution_count": 358,
   "id": "ef7707f1-5152-493f-8a8f-82ebd8de3a89",
   "metadata": {},
   "outputs": [
    {
     "data": {
      "text/plain": [
       "[12, 34, 56, 67]"
      ]
     },
     "execution_count": 358,
     "metadata": {},
     "output_type": "execute_result"
    }
   ],
   "source": [
    "list(map(int,st1))"
   ]
  },
  {
   "cell_type": "code",
   "execution_count": 359,
   "id": "d609cf96-f854-42fd-af55-c4a371debcc7",
   "metadata": {},
   "outputs": [
    {
     "data": {
      "text/plain": [
       "[12, 34, 56, 67]"
      ]
     },
     "execution_count": 359,
     "metadata": {},
     "output_type": "execute_result"
    }
   ],
   "source": [
    "list(map(int,st1))"
   ]
  },
  {
   "cell_type": "code",
   "execution_count": 360,
   "id": "9e5ae6f5-8f53-4d0a-8108-b40befa2f0ba",
   "metadata": {},
   "outputs": [
    {
     "name": "stdin",
     "output_type": "stream",
     "text": [
      "enter numbers seperated by @ 12@32@54@\n"
     ]
    }
   ],
   "source": [
    "st2=input(\"enter numbers seperated by @\")"
   ]
  },
  {
   "cell_type": "code",
   "execution_count": 361,
   "id": "ca322ccd-2701-4a05-a2e6-5facdb9507be",
   "metadata": {},
   "outputs": [
    {
     "data": {
      "text/plain": [
       "'12@32@54@'"
      ]
     },
     "execution_count": 361,
     "metadata": {},
     "output_type": "execute_result"
    }
   ],
   "source": [
    "st2"
   ]
  },
  {
   "cell_type": "code",
   "execution_count": 373,
   "id": "f7c43066-ebc8-4292-a6ad-3bee382b5f65",
   "metadata": {},
   "outputs": [
    {
     "data": {
      "text/plain": [
       "['12', '32', '54', '']"
      ]
     },
     "execution_count": 373,
     "metadata": {},
     "output_type": "execute_result"
    }
   ],
   "source": [
    "st3=st2.split(\"@\")\n",
    "st3"
   ]
  },
  {
   "cell_type": "code",
   "execution_count": 383,
   "id": "fe2b07b6-d830-4b37-9ae4-784a1d1055b0",
   "metadata": {},
   "outputs": [],
   "source": [
    "greeting=\"Welcome to my Class BASIC PYTHON. Class timings are 9 : 11 am\""
   ]
  },
  {
   "cell_type": "code",
   "execution_count": 385,
   "id": "44958b43-539d-4788-afc3-aebf9bd97119",
   "metadata": {},
   "outputs": [
    {
     "data": {
      "text/plain": [
       "'Welcome to my Class BASIC PYTHON. Class timings are 9 : 11 am'"
      ]
     },
     "execution_count": 385,
     "metadata": {},
     "output_type": "execute_result"
    }
   ],
   "source": [
    "greeting.strip()"
   ]
  },
  {
   "cell_type": "code",
   "execution_count": 387,
   "id": "012f20c1-435b-445a-819a-946673ff6075",
   "metadata": {},
   "outputs": [
    {
     "name": "stdout",
     "output_type": "stream",
     "text": [
      "W\n",
      "e\n",
      "l\n",
      "c\n",
      "o\n",
      "m\n",
      "e\n",
      " \n",
      "t\n",
      "o\n",
      " \n",
      "m\n",
      "y\n",
      " \n",
      "C\n",
      "l\n",
      "a\n",
      "s\n",
      "s\n",
      " \n",
      "B\n",
      "A\n",
      "S\n",
      "I\n",
      "C\n",
      " \n",
      "P\n",
      "Y\n",
      "T\n",
      "H\n",
      "O\n",
      "N\n",
      ".\n",
      " \n",
      "C\n",
      "l\n",
      "a\n",
      "s\n",
      "s\n",
      " \n",
      "t\n",
      "i\n",
      "m\n",
      "i\n",
      "n\n",
      "g\n",
      "s\n",
      " \n",
      "a\n",
      "r\n",
      "e\n",
      " \n",
      "9\n",
      " \n",
      ":\n",
      " \n",
      "1\n",
      "1\n",
      " \n",
      "a\n",
      "m\n"
     ]
    }
   ],
   "source": [
    "for i in greeting:\n",
    "    print(i)"
   ]
  },
  {
   "cell_type": "code",
   "execution_count": 389,
   "id": "481287b0-ee70-4dcb-b984-501d14633ce5",
   "metadata": {},
   "outputs": [
    {
     "name": "stdout",
     "output_type": "stream",
     "text": [
      "Welcome\n",
      "to\n",
      "my\n",
      "Class\n",
      "BASIC\n",
      "PYTHON.\n",
      "Class\n",
      "timings\n",
      "are\n",
      "9\n",
      ":\n",
      "11\n",
      "am\n"
     ]
    }
   ],
   "source": [
    "for i in greeting.split():\n",
    "    print(i)"
   ]
  },
  {
   "cell_type": "code",
   "execution_count": null,
   "id": "cabd7e05-de6a-4d7b-b8e8-4d8cab3d9641",
   "metadata": {},
   "outputs": [],
   "source": [
    "upper=[]\n",
    "lower=[]\n",
    "nums=[]\n",
    "other=[]\n",
    "for i in greeting.split():\n",
    "    if i.isupper():\n",
    "        upper.append(i)\n",
    "    elif i.islower():\n",
    "        lower.append(i)\n",
    "    elif i.isdigit():\n",
    "        nums.append(i)\n",
    "    else:\n",
    "        other.append(i)"
   ]
  },
  {
   "cell_type": "code",
   "execution_count": null,
   "id": "baabdf14-b75c-45cd-a519-cc26551863f8",
   "metadata": {},
   "outputs": [],
   "source": [
    "print(upper)"
   ]
  },
  {
   "cell_type": "code",
   "execution_count": null,
   "id": "b8ff1cd4-fa40-4924-875d-92d28993808b",
   "metadata": {},
   "outputs": [],
   "source": [
    "print(lower)"
   ]
  },
  {
   "cell_type": "code",
   "execution_count": null,
   "id": "85e44ee7-f2d3-4969-9457-2dcfa41b68dd",
   "metadata": {},
   "outputs": [],
   "source": [
    "print(nums)"
   ]
  },
  {
   "cell_type": "code",
   "execution_count": null,
   "id": "b23d4358-5ef6-44f7-92ec-56533a3fe14f",
   "metadata": {},
   "outputs": [],
   "source": [
    "print(other)"
   ]
  },
  {
   "cell_type": "code",
   "execution_count": null,
   "id": "bd81cf1a-37fd-42c2-b577-2cc09e9999af",
   "metadata": {},
   "outputs": [],
   "source": [
    "greeting1=\" Welcome to My class Basic Python \""
   ]
  },
  {
   "cell_type": "code",
   "execution_count": null,
   "id": "8cbd97cb-cc12-438e-bb48-32ef5461d2dd",
   "metadata": {},
   "outputs": [],
   "source": [
    "greeting1.strip()"
   ]
  },
  {
   "cell_type": "code",
   "execution_count": null,
   "id": "372932eb-6369-432d-af80-a41343d0f5b5",
   "metadata": {},
   "outputs": [],
   "source": [
    "greeting"
   ]
  },
  {
   "cell_type": "code",
   "execution_count": null,
   "id": "323bc06b-d9d7-4ec1-bdf3-9fe78aa0fb22",
   "metadata": {},
   "outputs": [],
   "source": [
    "greeting.upper()"
   ]
  },
  {
   "cell_type": "markdown",
   "id": "c3227c5a-8216-42e9-9694-cd85fda216b6",
   "metadata": {},
   "source": [
    "## sorting data"
   ]
  },
  {
   "cell_type": "code",
   "execution_count": 391,
   "id": "173a6be5-66c3-4eb5-b362-80c65330e191",
   "metadata": {},
   "outputs": [
    {
     "data": {
      "text/plain": [
       "[144, 625, 25, 81]"
      ]
     },
     "execution_count": 391,
     "metadata": {},
     "output_type": "execute_result"
    }
   ],
   "source": [
    "l1"
   ]
  },
  {
   "cell_type": "code",
   "execution_count": 393,
   "id": "a4b146db-c5a2-4933-aa54-6cf8a90e3da9",
   "metadata": {},
   "outputs": [],
   "source": [
    "l1.sort()"
   ]
  },
  {
   "cell_type": "code",
   "execution_count": 395,
   "id": "7be14a76-86f2-4fee-95ad-2a0f1b1cb319",
   "metadata": {},
   "outputs": [
    {
     "data": {
      "text/plain": [
       "[25, 81, 144, 625]"
      ]
     },
     "execution_count": 395,
     "metadata": {},
     "output_type": "execute_result"
    }
   ],
   "source": [
    "l1"
   ]
  },
  {
   "cell_type": "code",
   "execution_count": 397,
   "id": "171c15d4-57a2-49e0-9c2c-672df2dc0675",
   "metadata": {},
   "outputs": [],
   "source": [
    "l1.sort(reverse=True)"
   ]
  },
  {
   "cell_type": "code",
   "execution_count": 399,
   "id": "231dfa39-57fe-44c3-a75c-95838d55024a",
   "metadata": {},
   "outputs": [
    {
     "data": {
      "text/plain": [
       "[625, 144, 81, 25]"
      ]
     },
     "execution_count": 399,
     "metadata": {},
     "output_type": "execute_result"
    }
   ],
   "source": [
    "l1"
   ]
  },
  {
   "cell_type": "code",
   "execution_count": null,
   "id": "ec1aaf17-2bd2-4f3e-acb8-9bde28d7b403",
   "metadata": {},
   "outputs": [],
   "source": [
    "l1=tuple(l1)\n",
    "l1"
   ]
  },
  {
   "cell_type": "code",
   "execution_count": 401,
   "id": "dd206009-a620-47f3-bc62-dac4cbc4768d",
   "metadata": {},
   "outputs": [
    {
     "name": "stdin",
     "output_type": "stream",
     "text": [
      "enter numbers 12 34 56 67 89\n"
     ]
    }
   ],
   "source": [
    "num1=input(\"enter numbers\")"
   ]
  },
  {
   "cell_type": "code",
   "execution_count": 403,
   "id": "3d2ef89b-541e-4dfe-a132-29210e7ab0f9",
   "metadata": {},
   "outputs": [
    {
     "data": {
      "text/plain": [
       "'12 34 56 67 89'"
      ]
     },
     "execution_count": 403,
     "metadata": {},
     "output_type": "execute_result"
    }
   ],
   "source": [
    "num1"
   ]
  },
  {
   "cell_type": "code",
   "execution_count": 405,
   "id": "be7b0733-4cb1-47b6-9004-91bac9f28d91",
   "metadata": {},
   "outputs": [
    {
     "data": {
      "text/plain": [
       "str"
      ]
     },
     "execution_count": 405,
     "metadata": {},
     "output_type": "execute_result"
    }
   ],
   "source": [
    "type(num1)"
   ]
  },
  {
   "cell_type": "code",
   "execution_count": 407,
   "id": "45714248-d51c-4e88-a27a-020675ede332",
   "metadata": {},
   "outputs": [],
   "source": [
    "num2=num1.split()"
   ]
  },
  {
   "cell_type": "code",
   "execution_count": 409,
   "id": "6136cc97-3161-4f0a-b3a6-7413406d0872",
   "metadata": {},
   "outputs": [
    {
     "data": {
      "text/plain": [
       "['12', '34', '56', '67', '89']"
      ]
     },
     "execution_count": 409,
     "metadata": {},
     "output_type": "execute_result"
    }
   ],
   "source": [
    "num2"
   ]
  },
  {
   "cell_type": "code",
   "execution_count": 411,
   "id": "9126b585-a384-4e1e-9cff-73e2074c5539",
   "metadata": {},
   "outputs": [
    {
     "data": {
      "text/plain": [
       "[12, 34, 56, 67, 89]"
      ]
     },
     "execution_count": 411,
     "metadata": {},
     "output_type": "execute_result"
    }
   ],
   "source": [
    "list(map(int,num2))"
   ]
  },
  {
   "cell_type": "code",
   "execution_count": 415,
   "id": "d7b2a417-88b6-45d1-bc5e-76014b3b6a24",
   "metadata": {},
   "outputs": [
    {
     "name": "stdout",
     "output_type": "stream",
     "text": [
      "12\n",
      "34\n",
      "56\n",
      "67\n",
      "89\n"
     ]
    }
   ],
   "source": [
    "num_2=[]\n",
    "for i in num1.split():\n",
    "    num_2.append(int(i))\n",
    "    print(i)"
   ]
  },
  {
   "cell_type": "code",
   "execution_count": 421,
   "id": "e567b4bd-c013-4af6-8464-fa746f71e3e1",
   "metadata": {},
   "outputs": [
    {
     "name": "stdin",
     "output_type": "stream",
     "text": [
      "enter numbers 12 23 45 56\n"
     ]
    },
    {
     "data": {
      "text/plain": [
       "[12, 23, 45, 56]"
      ]
     },
     "execution_count": 421,
     "metadata": {},
     "output_type": "execute_result"
    }
   ],
   "source": [
    "list(map(int,input(\"enter numbers\").split()))"
   ]
  },
  {
   "cell_type": "code",
   "execution_count": 5,
   "id": "e906d5e6-1eb7-488e-b13f-dffc4c9c4d7e",
   "metadata": {},
   "outputs": [
    {
     "name": "stdout",
     "output_type": "stream",
     "text": [
      "[2, 4, 6, 8, 10, 12, 14, 16, 18]\n"
     ]
    }
   ],
   "source": [
    "even=[i for i in range(1,20) if i%2==0]\n",
    "print(even)"
   ]
  },
  {
   "cell_type": "code",
   "execution_count": null,
   "id": "f311d155-05b3-4283-a558-93c65ddb8adf",
   "metadata": {},
   "outputs": [],
   "source": []
  }
 ],
 "metadata": {
  "kernelspec": {
   "display_name": "Python [conda env:base] *",
   "language": "python",
   "name": "conda-base-py"
  },
  "language_info": {
   "codemirror_mode": {
    "name": "ipython",
    "version": 3
   },
   "file_extension": ".py",
   "mimetype": "text/x-python",
   "name": "python",
   "nbconvert_exporter": "python",
   "pygments_lexer": "ipython3",
   "version": "3.12.7"
  }
 },
 "nbformat": 4,
 "nbformat_minor": 5
}
